{
 "metadata": {
  "name": "",
  "signature": "sha256:84a678f9525f7fb85555751535796cce2965cc3ee5ba3b3e15d7c70b0fb6e233"
 },
 "nbformat": 3,
 "nbformat_minor": 0,
 "worksheets": [
  {
   "cells": [
    {
     "cell_type": "heading",
     "level": 1,
     "metadata": {},
     "source": [
      "pymrio - multi regional input output analysis in python"
     ]
    },
    {
     "cell_type": "markdown",
     "metadata": {},
     "source": [
      "by Konstantin Stadler, NTNU"
     ]
    },
    {
     "cell_type": "markdown",
     "metadata": {},
     "source": [
      "pymrio is an open source tool for analysing global environmental extended multi-regional input-output tables (EE MRIOs). \n",
      "\n",
      "Source Repository: https://github.com/konstantinstadler/pymrio\n",
      "\n",
      "pymrio aims to provide a consistent framework for handling EE MRIOs. It include methods for \n",
      "\n",
      "- parsing global MRIOs\n",
      "- modifying region/sector classification\n",
      "- restructuring extensions\n",
      "- calculating various accounts (footprint, territorial, impacts embodied in trade)\n",
      "- exporting to various formats\n",
      "- visualization and \n",
      "- automated report generation\n",
      "\n",
      "Current development concentrates on methods for investigating the source of impacts, in depth analysis of the MRIO system and parsing further MRIO systems. "
     ]
    },
    {
     "cell_type": "heading",
     "level": 2,
     "metadata": {},
     "source": [
      "Installation"
     ]
    },
    {
     "cell_type": "markdown",
     "metadata": {},
     "source": [
      "Up to now now pymrio doesn't have a installation routine. Just download the package from the source repository (download zip on right toolstrip) and add the folder to your python path. "
     ]
    },
    {
     "cell_type": "code",
     "collapsed": false,
     "input": [
      "import sys\n",
      "_pymrio_path = r'D:\\KST\\proj\\pymrio'  \n",
      "if not _pymrio_path in sys.path:\n",
      "    sys.path.append(_pymrio_path)\n",
      "del _pymrio_path"
     ],
     "language": "python",
     "metadata": {},
     "outputs": [],
     "prompt_number": 1
    },
    {
     "cell_type": "heading",
     "level": 2,
     "metadata": {},
     "source": [
      "Tutorial"
     ]
    },
    {
     "cell_type": "heading",
     "level": 3,
     "metadata": {},
     "source": [
      "Exploring the initial MRIO system"
     ]
    },
    {
     "cell_type": "markdown",
     "metadata": {},
     "source": [
      "pymrio comes with an small pseudo MRIO (test system). This can be used for development and testing MRIO routines and will be used in the following tutorial."
     ]
    },
    {
     "cell_type": "markdown",
     "metadata": {},
     "source": [
      "First import pymrio:"
     ]
    },
    {
     "cell_type": "code",
     "collapsed": false,
     "input": [
      "import pymrio as mr"
     ],
     "language": "python",
     "metadata": {},
     "outputs": [],
     "prompt_number": 2
    },
    {
     "cell_type": "markdown",
     "metadata": {},
     "source": [
      "Load the test mrio. For parsing and loading the original EXIOBASE 2.2 files just use pmr.parse_exiobase22."
     ]
    },
    {
     "cell_type": "code",
     "collapsed": false,
     "input": [
      "mrio = mr.load_test()"
     ],
     "language": "python",
     "metadata": {},
     "outputs": [],
     "prompt_number": 3
    },
    {
     "cell_type": "markdown",
     "metadata": {},
     "source": [
      "We can now explore the system. First we want to check whats in the system:"
     ]
    },
    {
     "cell_type": "code",
     "collapsed": false,
     "input": [
      "str(mrio)"
     ],
     "language": "python",
     "metadata": {},
     "outputs": [
      {
       "metadata": {},
       "output_type": "pyout",
       "prompt_number": 4,
       "text": [
        "'IO System with parameters: emissions, Z, Y, year, price, population, name, unit, factor_inputs, version'"
       ]
      }
     ],
     "prompt_number": 4
    },
    {
     "cell_type": "markdown",
     "metadata": {},
     "source": [
      "Thus, the test system consists of \n",
      "\n",
      "    1) a trade flow matrix Z, \n",
      "    2) finald demand Y, \n",
      "    3) two extensions:\n",
      "    \n",
      "        - factor_inputs\n",
      "        - emissions\n",
      "        \n",
      "    4) and information to unit, price system, baseyear, version...\n",
      "    "
     ]
    },
    {
     "cell_type": "markdown",
     "metadata": {},
     "source": [
      "We can access the parameter with the standard python notations, for example"
     ]
    },
    {
     "cell_type": "code",
     "collapsed": false,
     "input": [
      "mrio.Z"
     ],
     "language": "python",
     "metadata": {},
     "outputs": [
      {
       "html": [
        "<div style=\"max-height:1000px;max-width:1500px;overflow:auto;\">\n",
        "<table border=\"1\" class=\"dataframe\">\n",
        "  <thead>\n",
        "    <tr>\n",
        "      <th></th>\n",
        "      <th>region</th>\n",
        "      <th colspan=\"8\" halign=\"left\">reg1</th>\n",
        "      <th colspan=\"8\" halign=\"left\">reg2</th>\n",
        "      <th colspan=\"4\" halign=\"left\">reg3</th>\n",
        "      <th></th>\n",
        "    </tr>\n",
        "    <tr>\n",
        "      <th></th>\n",
        "      <th>sector</th>\n",
        "      <th>food</th>\n",
        "      <th>mining</th>\n",
        "      <th>manufactoring</th>\n",
        "      <th>electricity</th>\n",
        "      <th>construction</th>\n",
        "      <th>trade</th>\n",
        "      <th>transport</th>\n",
        "      <th>other</th>\n",
        "      <th>food</th>\n",
        "      <th>mining</th>\n",
        "      <th>manufactoring</th>\n",
        "      <th>electricity</th>\n",
        "      <th>construction</th>\n",
        "      <th>trade</th>\n",
        "      <th>transport</th>\n",
        "      <th>other</th>\n",
        "      <th>food</th>\n",
        "      <th>mining</th>\n",
        "      <th>manufactoring</th>\n",
        "      <th>electricity</th>\n",
        "      <th></th>\n",
        "    </tr>\n",
        "    <tr>\n",
        "      <th>region</th>\n",
        "      <th>sector</th>\n",
        "      <th></th>\n",
        "      <th></th>\n",
        "      <th></th>\n",
        "      <th></th>\n",
        "      <th></th>\n",
        "      <th></th>\n",
        "      <th></th>\n",
        "      <th></th>\n",
        "      <th></th>\n",
        "      <th></th>\n",
        "      <th></th>\n",
        "      <th></th>\n",
        "      <th></th>\n",
        "      <th></th>\n",
        "      <th></th>\n",
        "      <th></th>\n",
        "      <th></th>\n",
        "      <th></th>\n",
        "      <th></th>\n",
        "      <th></th>\n",
        "    </tr>\n",
        "  </thead>\n",
        "  <tbody>\n",
        "    <tr>\n",
        "      <th rowspan=\"8\" valign=\"top\">reg1</th>\n",
        "      <th>food</th>\n",
        "      <td> 23697.221000</td>\n",
        "      <td>   57.495387</td>\n",
        "      <td>  106490.980000</td>\n",
        "      <td>   195.903190</td>\n",
        "      <td>    230.136140</td>\n",
        "      <td>  11194.553000</td>\n",
        "      <td>    315.505250</td>\n",
        "      <td>    6231.682600</td>\n",
        "      <td>  1347.668200</td>\n",
        "      <td>    0.505602</td>\n",
        "      <td>   3168.530100</td>\n",
        "      <td>    10.824041</td>\n",
        "      <td>     9.799958</td>\n",
        "      <td>    657.033380</td>\n",
        "      <td>    38.847202</td>\n",
        "      <td>    360.999630</td>\n",
        "      <td>   189.955030</td>\n",
        "      <td>     0.090043</td>\n",
        "      <td>     512.581790</td>\n",
        "      <td>     0.221856</td>\n",
        "    </tr>\n",
        "    <tr>\n",
        "      <th>mining</th>\n",
        "      <td>   257.183170</td>\n",
        "      <td> 2341.156500</td>\n",
        "      <td>   18697.682000</td>\n",
        "      <td>  6120.415900</td>\n",
        "      <td>   7595.179900</td>\n",
        "      <td>    661.997420</td>\n",
        "      <td>    257.657440</td>\n",
        "      <td>    1382.556600</td>\n",
        "      <td>     8.815022</td>\n",
        "      <td>   13.350824</td>\n",
        "      <td>   2604.994200</td>\n",
        "      <td>    39.198307</td>\n",
        "      <td>   140.559000</td>\n",
        "      <td>     36.838354</td>\n",
        "      <td>     2.859317</td>\n",
        "      <td>     45.814153</td>\n",
        "      <td>     0.699933</td>\n",
        "      <td>    18.454943</td>\n",
        "      <td>     423.332030</td>\n",
        "      <td>  3039.973400</td>\n",
        "    </tr>\n",
        "    <tr>\n",
        "      <th>manufactoring</th>\n",
        "      <td> 39540.225000</td>\n",
        "      <td> 6063.071000</td>\n",
        "      <td> 1133749.400000</td>\n",
        "      <td> 20674.380000</td>\n",
        "      <td> 201544.510000</td>\n",
        "      <td> 143663.740000</td>\n",
        "      <td>  65917.811000</td>\n",
        "      <td>  182796.810000</td>\n",
        "      <td>  2497.465100</td>\n",
        "      <td>  868.237240</td>\n",
        "      <td> 126350.470000</td>\n",
        "      <td>  3282.711700</td>\n",
        "      <td> 12558.952000</td>\n",
        "      <td>  16273.180000</td>\n",
        "      <td>  7240.899700</td>\n",
        "      <td>  21359.618000</td>\n",
        "      <td>   932.949900</td>\n",
        "      <td>   690.163630</td>\n",
        "      <td>   65224.303000</td>\n",
        "      <td>  1250.611500</td>\n",
        "    </tr>\n",
        "    <tr>\n",
        "      <th>electricity</th>\n",
        "      <td>  4039.179300</td>\n",
        "      <td> 1852.159000</td>\n",
        "      <td>   62038.378000</td>\n",
        "      <td> 62177.762000</td>\n",
        "      <td>   4389.448300</td>\n",
        "      <td>  20077.943000</td>\n",
        "      <td>   9312.111800</td>\n",
        "      <td>   40471.331000</td>\n",
        "      <td>    65.039614</td>\n",
        "      <td>   54.781214</td>\n",
        "      <td>   1185.239500</td>\n",
        "      <td>   928.580660</td>\n",
        "      <td>    65.529802</td>\n",
        "      <td>    279.364520</td>\n",
        "      <td>    72.817238</td>\n",
        "      <td>    503.600620</td>\n",
        "      <td>     3.581980</td>\n",
        "      <td>     5.349635</td>\n",
        "      <td>     100.258110</td>\n",
        "      <td>     0.836789</td>\n",
        "    </tr>\n",
        "    <tr>\n",
        "      <th>construction</th>\n",
        "      <td>  1235.475700</td>\n",
        "      <td>  844.585880</td>\n",
        "      <td>   15077.254000</td>\n",
        "      <td>  6711.257700</td>\n",
        "      <td> 173724.370000</td>\n",
        "      <td>  10717.539000</td>\n",
        "      <td>  11183.202000</td>\n",
        "      <td>   92489.190000</td>\n",
        "      <td>     2.394159</td>\n",
        "      <td>    1.087897</td>\n",
        "      <td>     14.436956</td>\n",
        "      <td>     9.500973</td>\n",
        "      <td>   146.036670</td>\n",
        "      <td>      6.514133</td>\n",
        "      <td>     5.760826</td>\n",
        "      <td>     98.119570</td>\n",
        "      <td>     0.538862</td>\n",
        "      <td>     2.190026</td>\n",
        "      <td>       8.407959</td>\n",
        "      <td>     3.626942</td>\n",
        "    </tr>\n",
        "    <tr>\n",
        "      <th>trade</th>\n",
        "      <td> 15734.902000</td>\n",
        "      <td> 1727.254800</td>\n",
        "      <td>  268598.810000</td>\n",
        "      <td>  7880.960000</td>\n",
        "      <td>  54269.483000</td>\n",
        "      <td>  80768.016000</td>\n",
        "      <td>  35457.335000</td>\n",
        "      <td>   93377.098000</td>\n",
        "      <td>   592.064100</td>\n",
        "      <td>   91.539243</td>\n",
        "      <td>  20246.598000</td>\n",
        "      <td>   895.082470</td>\n",
        "      <td>  1096.778100</td>\n",
        "      <td>   3870.786700</td>\n",
        "      <td>   755.075640</td>\n",
        "      <td>   4217.469100</td>\n",
        "      <td>   140.851420</td>\n",
        "      <td>    15.210323</td>\n",
        "      <td>    4045.014900</td>\n",
        "      <td>   232.028740</td>\n",
        "    </tr>\n",
        "    <tr>\n",
        "      <th>transport</th>\n",
        "      <td>  3272.995500</td>\n",
        "      <td> 2940.896000</td>\n",
        "      <td>  119092.550000</td>\n",
        "      <td>  7177.094100</td>\n",
        "      <td>  13825.505000</td>\n",
        "      <td> 105903.790000</td>\n",
        "      <td> 207849.080000</td>\n",
        "      <td>  101484.090000</td>\n",
        "      <td>   114.600160</td>\n",
        "      <td>   76.989788</td>\n",
        "      <td>   3849.034400</td>\n",
        "      <td>   203.030770</td>\n",
        "      <td>   572.312650</td>\n",
        "      <td>   2310.229600</td>\n",
        "      <td>  7114.693000</td>\n",
        "      <td>   3401.496500</td>\n",
        "      <td>   121.261510</td>\n",
        "      <td>   100.096780</td>\n",
        "      <td>    3640.979100</td>\n",
        "      <td>   220.076150</td>\n",
        "    </tr>\n",
        "    <tr>\n",
        "      <th>other</th>\n",
        "      <td> 19258.250000</td>\n",
        "      <td> 4488.062900</td>\n",
        "      <td>  402431.890000</td>\n",
        "      <td> 33830.992000</td>\n",
        "      <td> 103982.010000</td>\n",
        "      <td> 275773.060000</td>\n",
        "      <td> 114951.670000</td>\n",
        "      <td> 1021037.100000</td>\n",
        "      <td>   297.788890</td>\n",
        "      <td>  250.448290</td>\n",
        "      <td>  11872.207000</td>\n",
        "      <td>  1186.101200</td>\n",
        "      <td>  1844.484000</td>\n",
        "      <td>   4743.416500</td>\n",
        "      <td>  2595.346800</td>\n",
        "      <td>  19487.343000</td>\n",
        "      <td>   124.182590</td>\n",
        "      <td>   440.967260</td>\n",
        "      <td>    9186.033300</td>\n",
        "      <td>   439.550820</td>\n",
        "    </tr>\n",
        "    <tr>\n",
        "      <th rowspan=\"8\" valign=\"top\">reg2</th>\n",
        "      <th>food</th>\n",
        "      <td>   874.878840</td>\n",
        "      <td>    4.103867</td>\n",
        "      <td>    2606.425100</td>\n",
        "      <td>   179.919920</td>\n",
        "      <td>    218.707210</td>\n",
        "      <td>    340.823980</td>\n",
        "      <td>     12.237848</td>\n",
        "      <td>     246.634950</td>\n",
        "      <td> 19432.421000</td>\n",
        "      <td>   31.778829</td>\n",
        "      <td>  58328.864000</td>\n",
        "      <td>   281.695280</td>\n",
        "      <td>   312.533510</td>\n",
        "      <td>   7747.468300</td>\n",
        "      <td>   519.004380</td>\n",
        "      <td>   3039.200200</td>\n",
        "      <td>    74.390892</td>\n",
        "      <td>     0.092988</td>\n",
        "      <td>     269.452120</td>\n",
        "      <td>     0.337894</td>\n",
        "    </tr>\n",
        "    <tr>\n",
        "      <th>mining</th>\n",
        "      <td>    77.779107</td>\n",
        "      <td>   25.509309</td>\n",
        "      <td>    3273.211700</td>\n",
        "      <td>   602.649080</td>\n",
        "      <td>     86.239127</td>\n",
        "      <td>    120.640790</td>\n",
        "      <td>     20.917582</td>\n",
        "      <td>     143.679670</td>\n",
        "      <td>   239.216210</td>\n",
        "      <td> 2537.526000</td>\n",
        "      <td>  14147.875000</td>\n",
        "      <td> 11229.867000</td>\n",
        "      <td>  3318.027800</td>\n",
        "      <td>    900.968170</td>\n",
        "      <td>   182.744050</td>\n",
        "      <td>   1499.457800</td>\n",
        "      <td>     0.267595</td>\n",
        "      <td>   145.039110</td>\n",
        "      <td>     353.307910</td>\n",
        "      <td>  6974.995400</td>\n",
        "    </tr>\n",
        "    <tr>\n",
        "      <th>manufactoring</th>\n",
        "      <td>  4215.916900</td>\n",
        "      <td>  709.964350</td>\n",
        "      <td>  138973.590000</td>\n",
        "      <td>  3001.625400</td>\n",
        "      <td>  13879.082000</td>\n",
        "      <td>  14396.663000</td>\n",
        "      <td>   7784.649900</td>\n",
        "      <td>   20754.612000</td>\n",
        "      <td> 19485.945000</td>\n",
        "      <td> 3482.559100</td>\n",
        "      <td> 459915.450000</td>\n",
        "      <td> 10085.458000</td>\n",
        "      <td> 96897.727000</td>\n",
        "      <td> 100568.590000</td>\n",
        "      <td> 43434.414000</td>\n",
        "      <td> 100051.350000</td>\n",
        "      <td>   557.658990</td>\n",
        "      <td>   301.698200</td>\n",
        "      <td>   25631.340000</td>\n",
        "      <td>   422.696670</td>\n",
        "    </tr>\n",
        "    <tr>\n",
        "      <th>electricity</th>\n",
        "      <td>    31.866890</td>\n",
        "      <td>   20.961498</td>\n",
        "      <td>    1002.767100</td>\n",
        "      <td>   439.473170</td>\n",
        "      <td>     27.496548</td>\n",
        "      <td>     99.674090</td>\n",
        "      <td>     37.195063</td>\n",
        "      <td>     213.761470</td>\n",
        "      <td>  3573.255300</td>\n",
        "      <td> 2513.715900</td>\n",
        "      <td>  41337.464000</td>\n",
        "      <td> 31176.011000</td>\n",
        "      <td>  2392.325500</td>\n",
        "      <td>  14907.002000</td>\n",
        "      <td>  5304.920000</td>\n",
        "      <td>  29420.867000</td>\n",
        "      <td>     0.244240</td>\n",
        "      <td>     0.281901</td>\n",
        "      <td>      10.130929</td>\n",
        "      <td>     3.225555</td>\n",
        "    </tr>\n",
        "    <tr>\n",
        "      <th>construction</th>\n",
        "      <td>     2.405453</td>\n",
        "      <td>    2.431829</td>\n",
        "      <td>      57.050394</td>\n",
        "      <td>    13.479970</td>\n",
        "      <td>    191.281310</td>\n",
        "      <td>     22.449930</td>\n",
        "      <td>     15.064464</td>\n",
        "      <td>     175.188960</td>\n",
        "      <td>   994.215780</td>\n",
        "      <td>  367.651840</td>\n",
        "      <td>   9647.525900</td>\n",
        "      <td>  5636.203400</td>\n",
        "      <td> 75614.980000</td>\n",
        "      <td>   7394.481500</td>\n",
        "      <td>  9756.597200</td>\n",
        "      <td>  50101.466000</td>\n",
        "      <td>     0.752574</td>\n",
        "      <td>     4.109009</td>\n",
        "      <td>      11.327558</td>\n",
        "      <td>     5.255793</td>\n",
        "    </tr>\n",
        "    <tr>\n",
        "      <th>trade</th>\n",
        "      <td>   511.307270</td>\n",
        "      <td>   37.466632</td>\n",
        "      <td>    8384.205100</td>\n",
        "      <td>   427.209040</td>\n",
        "      <td>    972.656020</td>\n",
        "      <td>   2151.620300</td>\n",
        "      <td>    500.684910</td>\n",
        "      <td>    1666.320600</td>\n",
        "      <td> 10017.105000</td>\n",
        "      <td> 1434.146000</td>\n",
        "      <td> 159729.950000</td>\n",
        "      <td>  4888.691500</td>\n",
        "      <td> 26865.462000</td>\n",
        "      <td>  65119.839000</td>\n",
        "      <td> 25973.087000</td>\n",
        "      <td>  57723.590000</td>\n",
        "      <td>    67.859686</td>\n",
        "      <td>    26.937516</td>\n",
        "      <td>    2529.237300</td>\n",
        "      <td>    75.820710</td>\n",
        "    </tr>\n",
        "    <tr>\n",
        "      <th>transport</th>\n",
        "      <td>   229.421580</td>\n",
        "      <td>  150.894210</td>\n",
        "      <td>   10024.830000</td>\n",
        "      <td>   501.699820</td>\n",
        "      <td>    684.497840</td>\n",
        "      <td>   6236.542700</td>\n",
        "      <td>  13957.615000</td>\n",
        "      <td>    3924.352000</td>\n",
        "      <td>  2833.679300</td>\n",
        "      <td> 1587.164100</td>\n",
        "      <td>  63908.040000</td>\n",
        "      <td>  3539.519100</td>\n",
        "      <td> 11694.529000</td>\n",
        "      <td>  48909.395000</td>\n",
        "      <td> 89877.291000</td>\n",
        "      <td>  58544.321000</td>\n",
        "      <td>    43.660229</td>\n",
        "      <td>    49.137886</td>\n",
        "      <td>    1600.882700</td>\n",
        "      <td>    67.041201</td>\n",
        "    </tr>\n",
        "    <tr>\n",
        "      <th>other</th>\n",
        "      <td>   306.517860</td>\n",
        "      <td>   77.207978</td>\n",
        "      <td>    9904.184500</td>\n",
        "      <td>   876.346750</td>\n",
        "      <td>   1661.818900</td>\n",
        "      <td>   3843.480500</td>\n",
        "      <td>   1635.422600</td>\n",
        "      <td>   17127.714000</td>\n",
        "      <td>  6833.659100</td>\n",
        "      <td> 3236.953500</td>\n",
        "      <td> 179116.480000</td>\n",
        "      <td> 14996.022000</td>\n",
        "      <td> 46589.541000</td>\n",
        "      <td> 160083.850000</td>\n",
        "      <td> 71948.570000</td>\n",
        "      <td> 466834.920000</td>\n",
        "      <td>   150.713530</td>\n",
        "      <td>   596.071620</td>\n",
        "      <td>    7111.372900</td>\n",
        "      <td>   419.274500</td>\n",
        "    </tr>\n",
        "    <tr>\n",
        "      <th rowspan=\"4\" valign=\"top\">reg3</th>\n",
        "      <th>food</th>\n",
        "      <td>   205.288330</td>\n",
        "      <td>    1.805581</td>\n",
        "      <td>    1579.840500</td>\n",
        "      <td>    12.264721</td>\n",
        "      <td>     14.338950</td>\n",
        "      <td>    253.306900</td>\n",
        "      <td>     10.465633</td>\n",
        "      <td>     122.288130</td>\n",
        "      <td>   195.502450</td>\n",
        "      <td>    0.244538</td>\n",
        "      <td>    969.162850</td>\n",
        "      <td>     2.603619</td>\n",
        "      <td>    12.540989</td>\n",
        "      <td>    243.695390</td>\n",
        "      <td>     9.275082</td>\n",
        "      <td>    113.040070</td>\n",
        "      <td> 80638.286000</td>\n",
        "      <td>   322.692410</td>\n",
        "      <td>  184783.100000</td>\n",
        "      <td>    71.523311</td>\n",
        "    </tr>\n",
        "    <tr>\n",
        "      <th>mining</th>\n",
        "      <td>    45.020157</td>\n",
        "      <td>   19.286075</td>\n",
        "      <td>    9053.170000</td>\n",
        "      <td>    89.964139</td>\n",
        "      <td>     21.116403</td>\n",
        "      <td>    316.619200</td>\n",
        "      <td>     30.407616</td>\n",
        "      <td>     130.741040</td>\n",
        "      <td>     7.798254</td>\n",
        "      <td>    7.519051</td>\n",
        "      <td>   4397.515100</td>\n",
        "      <td>    36.580191</td>\n",
        "      <td>    14.991887</td>\n",
        "      <td>     51.570358</td>\n",
        "      <td>     1.398210</td>\n",
        "      <td>    106.219770</td>\n",
        "      <td>   591.430830</td>\n",
        "      <td> 10693.312000</td>\n",
        "      <td>   79029.623000</td>\n",
        "      <td> 74720.456000</td>\n",
        "    </tr>\n",
        "    <tr>\n",
        "      <th>manufactoring</th>\n",
        "      <td>  2287.507900</td>\n",
        "      <td>  379.365340</td>\n",
        "      <td>   88687.944000</td>\n",
        "      <td>  1409.618800</td>\n",
        "      <td>   5401.207600</td>\n",
        "      <td>   6435.725500</td>\n",
        "      <td>   3802.118400</td>\n",
        "      <td>   16330.428000</td>\n",
        "      <td>   858.573150</td>\n",
        "      <td>  191.536080</td>\n",
        "      <td>  32605.848000</td>\n",
        "      <td>   768.127390</td>\n",
        "      <td>  3550.702700</td>\n",
        "      <td>   3550.582500</td>\n",
        "      <td>  2187.788100</td>\n",
        "      <td>   6870.519700</td>\n",
        "      <td> 50310.369000</td>\n",
        "      <td> 16202.389000</td>\n",
        "      <td> 1853964.000000</td>\n",
        "      <td> 26552.373000</td>\n",
        "    </tr>\n",
        "    <tr>\n",
        "      <th>electricity</th>\n",
        "      <td>     2.739705</td>\n",
        "      <td>    2.205940</td>\n",
        "      <td>      52.017658</td>\n",
        "      <td>   101.211960</td>\n",
        "      <td>      4.045214</td>\n",
        "      <td>     12.962153</td>\n",
        "      <td>      4.950471</td>\n",
        "      <td>      20.007909</td>\n",
        "      <td>     5.880035</td>\n",
        "      <td>    5.354949</td>\n",
        "      <td>     67.494087</td>\n",
        "      <td>   103.826540</td>\n",
        "      <td>     7.066088</td>\n",
        "      <td>     29.752673</td>\n",
        "      <td>     4.301108</td>\n",
        "      <td>     50.597808</td>\n",
        "      <td>  7252.076400</td>\n",
        "      <td>  6151.280900</td>\n",
        "      <td>  112304.820000</td>\n",
        "      <td> 40601.748000</td>\n",
        "    </tr>\n",
        "    <tr>\n",
        "      <td></td>\n",
        "      <td></td>\n",
        "      <td>...</td>\n",
        "      <td>...</td>\n",
        "      <td>...</td>\n",
        "      <td>...</td>\n",
        "      <td>...</td>\n",
        "      <td>...</td>\n",
        "      <td>...</td>\n",
        "      <td>...</td>\n",
        "      <td>...</td>\n",
        "      <td>...</td>\n",
        "      <td>...</td>\n",
        "      <td>...</td>\n",
        "      <td>...</td>\n",
        "      <td>...</td>\n",
        "      <td>...</td>\n",
        "      <td>...</td>\n",
        "      <td>...</td>\n",
        "      <td>...</td>\n",
        "      <td>...</td>\n",
        "      <td>...</td>\n",
        "    </tr>\n",
        "  </tbody>\n",
        "</table>\n",
        "<p>48 rows \u00d7 48 columns</p>\n",
        "</div>"
       ],
       "metadata": {},
       "output_type": "pyout",
       "prompt_number": 5,
       "text": [
        "region                        reg1                                             \\\n",
        "sector                        food       mining   manufactoring   electricity   \n",
        "region sector                                                                   \n",
        "reg1   food           23697.221000    57.495387   106490.980000    195.903190   \n",
        "       mining           257.183170  2341.156500    18697.682000   6120.415900   \n",
        "       manufactoring  39540.225000  6063.071000  1133749.400000  20674.380000   \n",
        "       electricity     4039.179300  1852.159000    62038.378000  62177.762000   \n",
        "       construction    1235.475700   844.585880    15077.254000   6711.257700   \n",
        "       trade          15734.902000  1727.254800   268598.810000   7880.960000   \n",
        "       transport       3272.995500  2940.896000   119092.550000   7177.094100   \n",
        "       other          19258.250000  4488.062900   402431.890000  33830.992000   \n",
        "reg2   food             874.878840     4.103867     2606.425100    179.919920   \n",
        "       mining            77.779107    25.509309     3273.211700    602.649080   \n",
        "       manufactoring   4215.916900   709.964350   138973.590000   3001.625400   \n",
        "       electricity       31.866890    20.961498     1002.767100    439.473170   \n",
        "       construction       2.405453     2.431829       57.050394     13.479970   \n",
        "       trade            511.307270    37.466632     8384.205100    427.209040   \n",
        "       transport        229.421580   150.894210    10024.830000    501.699820   \n",
        "       other            306.517860    77.207978     9904.184500    876.346750   \n",
        "reg3   food             205.288330     1.805581     1579.840500     12.264721   \n",
        "       mining            45.020157    19.286075     9053.170000     89.964139   \n",
        "       manufactoring   2287.507900   379.365340    88687.944000   1409.618800   \n",
        "       electricity        2.739705     2.205940       52.017658    101.211960   \n",
        "                               ...          ...             ...           ...   \n",
        "\n",
        "region                                                             \\\n",
        "sector                 construction          trade      transport   \n",
        "region sector                                                       \n",
        "reg1   food              230.136140   11194.553000     315.505250   \n",
        "       mining           7595.179900     661.997420     257.657440   \n",
        "       manufactoring  201544.510000  143663.740000   65917.811000   \n",
        "       electricity      4389.448300   20077.943000    9312.111800   \n",
        "       construction   173724.370000   10717.539000   11183.202000   \n",
        "       trade           54269.483000   80768.016000   35457.335000   \n",
        "       transport       13825.505000  105903.790000  207849.080000   \n",
        "       other          103982.010000  275773.060000  114951.670000   \n",
        "reg2   food              218.707210     340.823980      12.237848   \n",
        "       mining             86.239127     120.640790      20.917582   \n",
        "       manufactoring   13879.082000   14396.663000    7784.649900   \n",
        "       electricity        27.496548      99.674090      37.195063   \n",
        "       construction      191.281310      22.449930      15.064464   \n",
        "       trade             972.656020    2151.620300     500.684910   \n",
        "       transport         684.497840    6236.542700   13957.615000   \n",
        "       other            1661.818900    3843.480500    1635.422600   \n",
        "reg3   food               14.338950     253.306900      10.465633   \n",
        "       mining             21.116403     316.619200      30.407616   \n",
        "       manufactoring    5401.207600    6435.725500    3802.118400   \n",
        "       electricity         4.045214      12.962153       4.950471   \n",
        "                                ...            ...            ...   \n",
        "\n",
        "region                                        reg2               \\\n",
        "sector                         other          food       mining   \n",
        "region sector                                                     \n",
        "reg1   food              6231.682600   1347.668200     0.505602   \n",
        "       mining            1382.556600      8.815022    13.350824   \n",
        "       manufactoring   182796.810000   2497.465100   868.237240   \n",
        "       electricity      40471.331000     65.039614    54.781214   \n",
        "       construction     92489.190000      2.394159     1.087897   \n",
        "       trade            93377.098000    592.064100    91.539243   \n",
        "       transport       101484.090000    114.600160    76.989788   \n",
        "       other          1021037.100000    297.788890   250.448290   \n",
        "reg2   food               246.634950  19432.421000    31.778829   \n",
        "       mining             143.679670    239.216210  2537.526000   \n",
        "       manufactoring    20754.612000  19485.945000  3482.559100   \n",
        "       electricity        213.761470   3573.255300  2513.715900   \n",
        "       construction       175.188960    994.215780   367.651840   \n",
        "       trade             1666.320600  10017.105000  1434.146000   \n",
        "       transport         3924.352000   2833.679300  1587.164100   \n",
        "       other            17127.714000   6833.659100  3236.953500   \n",
        "reg3   food               122.288130    195.502450     0.244538   \n",
        "       mining             130.741040      7.798254     7.519051   \n",
        "       manufactoring    16330.428000    858.573150   191.536080   \n",
        "       electricity         20.007909      5.880035     5.354949   \n",
        "                                 ...           ...          ...   \n",
        "\n",
        "region                                                           \\\n",
        "sector                manufactoring   electricity  construction   \n",
        "region sector                                                     \n",
        "reg1   food             3168.530100     10.824041      9.799958   \n",
        "       mining           2604.994200     39.198307    140.559000   \n",
        "       manufactoring  126350.470000   3282.711700  12558.952000   \n",
        "       electricity      1185.239500    928.580660     65.529802   \n",
        "       construction       14.436956      9.500973    146.036670   \n",
        "       trade           20246.598000    895.082470   1096.778100   \n",
        "       transport        3849.034400    203.030770    572.312650   \n",
        "       other           11872.207000   1186.101200   1844.484000   \n",
        "reg2   food            58328.864000    281.695280    312.533510   \n",
        "       mining          14147.875000  11229.867000   3318.027800   \n",
        "       manufactoring  459915.450000  10085.458000  96897.727000   \n",
        "       electricity     41337.464000  31176.011000   2392.325500   \n",
        "       construction     9647.525900   5636.203400  75614.980000   \n",
        "       trade          159729.950000   4888.691500  26865.462000   \n",
        "       transport       63908.040000   3539.519100  11694.529000   \n",
        "       other          179116.480000  14996.022000  46589.541000   \n",
        "reg3   food              969.162850      2.603619     12.540989   \n",
        "       mining           4397.515100     36.580191     14.991887   \n",
        "       manufactoring   32605.848000    768.127390   3550.702700   \n",
        "       electricity        67.494087    103.826540      7.066088   \n",
        "                                ...           ...           ...   \n",
        "\n",
        "region                                                            \\\n",
        "sector                        trade     transport          other   \n",
        "region sector                                                      \n",
        "reg1   food              657.033380     38.847202     360.999630   \n",
        "       mining             36.838354      2.859317      45.814153   \n",
        "       manufactoring   16273.180000   7240.899700   21359.618000   \n",
        "       electricity       279.364520     72.817238     503.600620   \n",
        "       construction        6.514133      5.760826      98.119570   \n",
        "       trade            3870.786700    755.075640    4217.469100   \n",
        "       transport        2310.229600   7114.693000    3401.496500   \n",
        "       other            4743.416500   2595.346800   19487.343000   \n",
        "reg2   food             7747.468300    519.004380    3039.200200   \n",
        "       mining            900.968170    182.744050    1499.457800   \n",
        "       manufactoring  100568.590000  43434.414000  100051.350000   \n",
        "       electricity     14907.002000   5304.920000   29420.867000   \n",
        "       construction     7394.481500   9756.597200   50101.466000   \n",
        "       trade           65119.839000  25973.087000   57723.590000   \n",
        "       transport       48909.395000  89877.291000   58544.321000   \n",
        "       other          160083.850000  71948.570000  466834.920000   \n",
        "reg3   food              243.695390      9.275082     113.040070   \n",
        "       mining             51.570358      1.398210     106.219770   \n",
        "       manufactoring    3550.582500   2187.788100    6870.519700   \n",
        "       electricity        29.752673      4.301108      50.597808   \n",
        "                                ...           ...            ...   \n",
        "\n",
        "region                        reg3                                \\\n",
        "sector                        food        mining   manufactoring   \n",
        "region sector                                                      \n",
        "reg1   food             189.955030      0.090043      512.581790   \n",
        "       mining             0.699933     18.454943      423.332030   \n",
        "       manufactoring    932.949900    690.163630    65224.303000   \n",
        "       electricity        3.581980      5.349635      100.258110   \n",
        "       construction       0.538862      2.190026        8.407959   \n",
        "       trade            140.851420     15.210323     4045.014900   \n",
        "       transport        121.261510    100.096780     3640.979100   \n",
        "       other            124.182590    440.967260     9186.033300   \n",
        "reg2   food              74.390892      0.092988      269.452120   \n",
        "       mining             0.267595    145.039110      353.307910   \n",
        "       manufactoring    557.658990    301.698200    25631.340000   \n",
        "       electricity        0.244240      0.281901       10.130929   \n",
        "       construction       0.752574      4.109009       11.327558   \n",
        "       trade             67.859686     26.937516     2529.237300   \n",
        "       transport         43.660229     49.137886     1600.882700   \n",
        "       other            150.713530    596.071620     7111.372900   \n",
        "reg3   food           80638.286000    322.692410   184783.100000   \n",
        "       mining           591.430830  10693.312000    79029.623000   \n",
        "       manufactoring  50310.369000  16202.389000  1853964.000000   \n",
        "       electricity     7252.076400   6151.280900   112304.820000   \n",
        "                               ...           ...             ...   \n",
        "\n",
        "region                                  \n",
        "sector                 electricity      \n",
        "region sector                           \n",
        "reg1   food               0.221856 ...  \n",
        "       mining          3039.973400 ...  \n",
        "       manufactoring   1250.611500 ...  \n",
        "       electricity        0.836789 ...  \n",
        "       construction       3.626942 ...  \n",
        "       trade            232.028740 ...  \n",
        "       transport        220.076150 ...  \n",
        "       other            439.550820 ...  \n",
        "reg2   food               0.337894 ...  \n",
        "       mining          6974.995400 ...  \n",
        "       manufactoring    422.696670 ...  \n",
        "       electricity        3.225555 ...  \n",
        "       construction       5.255793 ...  \n",
        "       trade             75.820710 ...  \n",
        "       transport         67.041201 ...  \n",
        "       other            419.274500 ...  \n",
        "reg3   food              71.523311 ...  \n",
        "       mining         74720.456000 ...  \n",
        "       manufactoring  26552.373000 ...  \n",
        "       electricity    40601.748000 ...  \n",
        "                               ...      \n",
        "\n",
        "[48 rows x 48 columns]"
       ]
      }
     ],
     "prompt_number": 5
    },
    {
     "cell_type": "markdown",
     "metadata": {},
     "source": [
      "Show the Z matrix as a heatmap"
     ]
    },
    {
     "cell_type": "code",
     "collapsed": false,
     "input": [
      "import seaborn # just for finer graphics\n",
      "imshow(mrio.Z,vmax = 5E4)\n",
      "xlabel('sectors')\n",
      "ylabel('sectors')"
     ],
     "language": "python",
     "metadata": {},
     "outputs": [
      {
       "metadata": {},
       "output_type": "pyout",
       "prompt_number": 6,
       "text": [
        "<matplotlib.text.Text at 0xa5e5e80>"
       ]
      },
      {
       "metadata": {},
       "output_type": "display_data",
       "png": "[encoded data removed]",
       "text": [
        "<matplotlib.figure.Figure at 0x7577908>"
       ]
      }
     ],
     "prompt_number": 6
    },
    {
     "cell_type": "markdown",
     "metadata": {},
     "source": [
      "There are also some functions availabe with provide some structural information, for example"
     ]
    },
    {
     "cell_type": "code",
     "collapsed": false,
     "input": [
      "print(mrio.get_regions())"
     ],
     "language": "python",
     "metadata": {},
     "outputs": [
      {
       "output_type": "stream",
       "stream": "stdout",
       "text": [
        "['reg1' 'reg2' 'reg3' 'reg4' 'reg5' 'reg6']\n"
       ]
      }
     ],
     "prompt_number": 7
    },
    {
     "cell_type": "markdown",
     "metadata": {},
     "source": [
      "Extensions are objects within the MRIO system and can be accessed as attributes. The same methods as for the core IO System are available, for example"
     ]
    },
    {
     "cell_type": "code",
     "collapsed": false,
     "input": [
      "str(mrio.emissions)"
     ],
     "language": "python",
     "metadata": {},
     "outputs": [
      {
       "metadata": {},
       "output_type": "pyout",
       "prompt_number": 8,
       "text": [
        "'Extension Emissions with parameters: F, name, unit, FY'"
       ]
      }
     ],
     "prompt_number": 8
    },
    {
     "cell_type": "code",
     "collapsed": false,
     "input": [
      "mrio.emissions.F"
     ],
     "language": "python",
     "metadata": {},
     "outputs": [
      {
       "html": [
        "<div style=\"max-height:1000px;max-width:1500px;overflow:auto;\">\n",
        "<table border=\"1\" class=\"dataframe\">\n",
        "  <thead>\n",
        "    <tr>\n",
        "      <th></th>\n",
        "      <th>region</th>\n",
        "      <th colspan=\"8\" halign=\"left\">reg1</th>\n",
        "      <th colspan=\"8\" halign=\"left\">reg2</th>\n",
        "      <th colspan=\"4\" halign=\"left\">reg3</th>\n",
        "      <th></th>\n",
        "    </tr>\n",
        "    <tr>\n",
        "      <th></th>\n",
        "      <th>sector</th>\n",
        "      <th>food</th>\n",
        "      <th>mining</th>\n",
        "      <th>manufactoring</th>\n",
        "      <th>electricity</th>\n",
        "      <th>construction</th>\n",
        "      <th>trade</th>\n",
        "      <th>transport</th>\n",
        "      <th>other</th>\n",
        "      <th>food</th>\n",
        "      <th>mining</th>\n",
        "      <th>manufactoring</th>\n",
        "      <th>electricity</th>\n",
        "      <th>construction</th>\n",
        "      <th>trade</th>\n",
        "      <th>transport</th>\n",
        "      <th>other</th>\n",
        "      <th>food</th>\n",
        "      <th>mining</th>\n",
        "      <th>manufactoring</th>\n",
        "      <th>electricity</th>\n",
        "      <th></th>\n",
        "    </tr>\n",
        "    <tr>\n",
        "      <th>stressor</th>\n",
        "      <th>compartment</th>\n",
        "      <th></th>\n",
        "      <th></th>\n",
        "      <th></th>\n",
        "      <th></th>\n",
        "      <th></th>\n",
        "      <th></th>\n",
        "      <th></th>\n",
        "      <th></th>\n",
        "      <th></th>\n",
        "      <th></th>\n",
        "      <th></th>\n",
        "      <th></th>\n",
        "      <th></th>\n",
        "      <th></th>\n",
        "      <th></th>\n",
        "      <th></th>\n",
        "      <th></th>\n",
        "      <th></th>\n",
        "      <th></th>\n",
        "      <th></th>\n",
        "    </tr>\n",
        "  </thead>\n",
        "  <tbody>\n",
        "    <tr>\n",
        "      <th>emission_type1</th>\n",
        "      <th>air</th>\n",
        "      <td> 1848064.80</td>\n",
        "      <td> 986448.090</td>\n",
        "      <td> 23613787.00</td>\n",
        "      <td> 28139100.00</td>\n",
        "      <td> 2584141.80</td>\n",
        "      <td> 4132656.3</td>\n",
        "      <td> 21766987.0</td>\n",
        "      <td> 7842090.6</td>\n",
        "      <td> 1697937.30</td>\n",
        "      <td> 347378.150</td>\n",
        "      <td> 15226400.00</td>\n",
        "      <td> 16437822.00</td>\n",
        "      <td> 1632323.2</td>\n",
        "      <td> 2582470.80</td>\n",
        "      <td> 5990921.40</td>\n",
        "      <td> 4493908.2</td>\n",
        "      <td> 4047014.8</td>\n",
        "      <td> 2363971.4</td>\n",
        "      <td> 76316275</td>\n",
        "      <td> 72083992.0</td>\n",
        "    </tr>\n",
        "    <tr>\n",
        "      <th>emission_type2</th>\n",
        "      <th>water</th>\n",
        "      <td>  139250.47</td>\n",
        "      <td>  22343.295</td>\n",
        "      <td>   763569.18</td>\n",
        "      <td>   273981.55</td>\n",
        "      <td>  317396.51</td>\n",
        "      <td> 1254477.8</td>\n",
        "      <td>  1012999.1</td>\n",
        "      <td> 2449178.0</td>\n",
        "      <td>  204835.44</td>\n",
        "      <td>  29463.944</td>\n",
        "      <td>   753818.35</td>\n",
        "      <td>   169967.66</td>\n",
        "      <td>  236337.3</td>\n",
        "      <td>  928748.97</td>\n",
        "      <td>  845902.27</td>\n",
        "      <td> 1691278.7</td>\n",
        "      <td> 1453158.8</td>\n",
        "      <td> 2401886.9</td>\n",
        "      <td> 31227406</td>\n",
        "      <td>  3066497.3</td>\n",
        "    </tr>\n",
        "  </tbody>\n",
        "</table>\n",
        "<p>2 rows \u00d7 48 columns</p>\n",
        "</div>"
       ],
       "metadata": {},
       "output_type": "pyout",
       "prompt_number": 9,
       "text": [
        "region                            reg1                             \\\n",
        "sector                            food      mining  manufactoring   \n",
        "stressor       compartment                                          \n",
        "emission_type1 air          1848064.80  986448.090    23613787.00   \n",
        "emission_type2 water         139250.47   22343.295      763569.18   \n",
        "\n",
        "region                                                                        \\\n",
        "sector                      electricity  construction      trade   transport   \n",
        "stressor       compartment                                                     \n",
        "emission_type1 air          28139100.00    2584141.80  4132656.3  21766987.0   \n",
        "emission_type2 water          273981.55     317396.51  1254477.8   1012999.1   \n",
        "\n",
        "region                                       reg2                             \\\n",
        "sector                          other        food      mining  manufactoring   \n",
        "stressor       compartment                                                     \n",
        "emission_type1 air          7842090.6  1697937.30  347378.150    15226400.00   \n",
        "emission_type2 water        2449178.0   204835.44   29463.944      753818.35   \n",
        "\n",
        "region                                                                         \\\n",
        "sector                      electricity  construction       trade   transport   \n",
        "stressor       compartment                                                      \n",
        "emission_type1 air          16437822.00     1632323.2  2582470.80  5990921.40   \n",
        "emission_type2 water          169967.66      236337.3   928748.97   845902.27   \n",
        "\n",
        "region                                      reg3                            \\\n",
        "sector                          other       food     mining  manufactoring   \n",
        "stressor       compartment                                                   \n",
        "emission_type1 air          4493908.2  4047014.8  2363971.4       76316275   \n",
        "emission_type2 water        1691278.7  1453158.8  2401886.9       31227406   \n",
        "\n",
        "region                                       \n",
        "sector                      electricity      \n",
        "stressor       compartment                   \n",
        "emission_type1 air           72083992.0 ...  \n",
        "emission_type2 water          3066497.3 ...  \n",
        "\n",
        "[2 rows x 48 columns]"
       ]
      }
     ],
     "prompt_number": 9
    },
    {
     "cell_type": "code",
     "collapsed": false,
     "input": [
      "print(mrio.emissions.get_rows())"
     ],
     "language": "python",
     "metadata": {},
     "outputs": [
      {
       "output_type": "stream",
       "stream": "stdout",
       "text": [
        "[('emission_type1', 'air') ('emission_type2', 'water')]\n"
       ]
      }
     ],
     "prompt_number": 10
    },
    {
     "cell_type": "heading",
     "level": 3,
     "metadata": {},
     "source": [
      "Calculating the IO System"
     ]
    },
    {
     "cell_type": "markdown",
     "metadata": {},
     "source": [
      "A standard EE MRIO analysis consists of calculating the matrix of technological coefficients (A-matrix) and the Leontrief inverse (L). Subsequently, one starts to calculates the stressor / factors of productions coefficients, multipliers and finally footprints and impacts embodied in trade. pymrio aims to ease the whole process by providing one top level function for calculating all *missing* parts of the IO System. Thus:"
     ]
    },
    {
     "cell_type": "code",
     "collapsed": false,
     "input": [
      "mrio.calc_all()"
     ],
     "language": "python",
     "metadata": {},
     "outputs": [],
     "prompt_number": 11
    },
    {
     "cell_type": "markdown",
     "metadata": {},
     "source": [
      "This top level functions checks first, which parts of the IO System and of the extensions are missing. The test system contains a transaction matrix Z, based on that the function calculates the industry output x, L as well as S, M and accounts (per product, region and capita) of all extensions. "
     ]
    },
    {
     "cell_type": "heading",
     "level": 3,
     "metadata": {},
     "source": [
      "Exploring the fully calculated system"
     ]
    },
    {
     "cell_type": "markdown",
     "metadata": {},
     "source": [
      "Lets take a look:"
     ]
    },
    {
     "cell_type": "code",
     "collapsed": false,
     "input": [
      "str(mrio)"
     ],
     "language": "python",
     "metadata": {},
     "outputs": [
      {
       "metadata": {},
       "output_type": "pyout",
       "prompt_number": 12,
       "text": [
        "'IO System with parameters: emissions, Z, Y, x, year, A, price, population, name, unit, factor_inputs, version, L'"
       ]
      }
     ],
     "prompt_number": 12
    },
    {
     "cell_type": "code",
     "collapsed": false,
     "input": [
      "str(mrio.emissions)"
     ],
     "language": "python",
     "metadata": {},
     "outputs": [
      {
       "metadata": {},
       "output_type": "pyout",
       "prompt_number": 13,
       "text": [
        "'Extension Emissions with parameters: S, D_fp_reg, F, name, unit, D_terr_cap, D_fp_cap, D_terr_reg, D_imp_cap, FY, D_exp_cap, D_fp, D_imp, M, D_terr, D_imp_reg, D_exp_reg, D_exp'"
       ]
      }
     ],
     "prompt_number": 13
    },
    {
     "cell_type": "code",
     "collapsed": false,
     "input": [
      "mrio.emissions.D_fp_cap"
     ],
     "language": "python",
     "metadata": {},
     "outputs": [
      {
       "html": [
        "<div style=\"max-height:1000px;max-width:1500px;overflow:auto;\">\n",
        "<table border=\"1\" class=\"dataframe\">\n",
        "  <thead>\n",
        "    <tr style=\"text-align: right;\">\n",
        "      <th></th>\n",
        "      <th>region</th>\n",
        "      <th>reg1</th>\n",
        "      <th>reg2</th>\n",
        "      <th>reg3</th>\n",
        "      <th>reg4</th>\n",
        "      <th>reg5</th>\n",
        "      <th>reg6</th>\n",
        "    </tr>\n",
        "    <tr>\n",
        "      <th>stressor</th>\n",
        "      <th>compartment</th>\n",
        "      <th></th>\n",
        "      <th></th>\n",
        "      <th></th>\n",
        "      <th></th>\n",
        "      <th></th>\n",
        "      <th></th>\n",
        "    </tr>\n",
        "  </thead>\n",
        "  <tbody>\n",
        "    <tr>\n",
        "      <th>emission_type1</th>\n",
        "      <th>air</th>\n",
        "      <td> 0.266349</td>\n",
        "      <td> 0.031208</td>\n",
        "      <td> 0.421706</td>\n",
        "      <td> 1.538139</td>\n",
        "      <td> 0.905404</td>\n",
        "      <td> 0.969892</td>\n",
        "    </tr>\n",
        "    <tr>\n",
        "      <th>emission_type2</th>\n",
        "      <th>water</th>\n",
        "      <td> 0.110804</td>\n",
        "      <td> 0.019461</td>\n",
        "      <td> 0.457724</td>\n",
        "      <td> 0.593646</td>\n",
        "      <td> 0.278030</td>\n",
        "      <td> 0.341361</td>\n",
        "    </tr>\n",
        "  </tbody>\n",
        "</table>\n",
        "<p>2 rows \u00d7 6 columns</p>\n",
        "</div>"
       ],
       "metadata": {},
       "output_type": "pyout",
       "prompt_number": 14,
       "text": [
        "region                          reg1      reg2      reg3      reg4      reg5  \\\n",
        "stressor       compartment                                                     \n",
        "emission_type1 air          0.266349  0.031208  0.421706  1.538139  0.905404   \n",
        "emission_type2 water        0.110804  0.019461  0.457724  0.593646  0.278030   \n",
        "\n",
        "region                          reg6  \n",
        "stressor       compartment            \n",
        "emission_type1 air          0.969892  \n",
        "emission_type2 water        0.341361  \n",
        "\n",
        "[2 rows x 6 columns]"
       ]
      }
     ],
     "prompt_number": 14
    },
    {
     "cell_type": "markdown",
     "metadata": {},
     "source": [
      "But, of course, graphical output is much nicer"
     ]
    },
    {
     "cell_type": "code",
     "collapsed": false,
     "input": [
      "mrio.emissions.plot_account(['emission_type1','air'], per_capita=False)"
     ],
     "language": "python",
     "metadata": {},
     "outputs": [
      {
       "metadata": {},
       "output_type": "pyout",
       "prompt_number": 15,
       "text": [
        "<matplotlib.axes.AxesSubplot at 0xa90ba20>"
       ]
      },
      {
       "metadata": {},
       "output_type": "display_data",
       "png": "[encoded data removed]",
       "text": [
        "<matplotlib.figure.Figure at 0xa8f8f28>"
       ]
      }
     ],
     "prompt_number": 15
    },
    {
     "cell_type": "heading",
     "level": 3,
     "metadata": {},
     "source": [
      "Aggregation"
     ]
    },
    {
     "cell_type": "markdown",
     "metadata": {},
     "source": [
      "One of the standard task when handling MRIO systems is to aggregate sectors and/or countries to a differnet classification. pymrio provides some predefined aggregation levels for the test system (as well as for EXIOBASE 2)."
     ]
    },
    {
     "cell_type": "markdown",
     "metadata": {},
     "source": [
      "Lets assume, that 'reg1' to 'reg3' of the test system form a region called 'EU'. We can than easily aggregate the test system by:"
     ]
    },
    {
     "cell_type": "code",
     "collapsed": false,
     "input": [
      "reg_vector = mr.build_agg_vec(['EU','orig_regions'], path='test')"
     ],
     "language": "python",
     "metadata": {},
     "outputs": [],
     "prompt_number": 16
    },
    {
     "cell_type": "code",
     "collapsed": false,
     "input": [
      "mrio_EU = mrio.aggregate(region_agg=reg_vector)"
     ],
     "language": "python",
     "metadata": {},
     "outputs": [],
     "prompt_number": 17
    },
    {
     "cell_type": "code",
     "collapsed": false,
     "input": [
      "mrio_EU.get_regions()"
     ],
     "language": "python",
     "metadata": {},
     "outputs": [
      {
       "metadata": {},
       "output_type": "pyout",
       "prompt_number": 18,
       "text": [
        "array(['EU', 'reg4', 'reg5', 'reg6'], dtype=object)"
       ]
      }
     ],
     "prompt_number": 18
    },
    {
     "cell_type": "code",
     "collapsed": false,
     "input": [
      "mrio_EU.calc_all()"
     ],
     "language": "python",
     "metadata": {},
     "outputs": [],
     "prompt_number": 19
    },
    {
     "cell_type": "code",
     "collapsed": false,
     "input": [
      "mrio_EU.emissions.D_fp_reg"
     ],
     "language": "python",
     "metadata": {},
     "outputs": [
      {
       "html": [
        "<div style=\"max-height:1000px;max-width:1500px;overflow:auto;\">\n",
        "<table border=\"1\" class=\"dataframe\">\n",
        "  <thead>\n",
        "    <tr style=\"text-align: right;\">\n",
        "      <th></th>\n",
        "      <th>region</th>\n",
        "      <th>EU</th>\n",
        "      <th>reg4</th>\n",
        "      <th>reg5</th>\n",
        "      <th>reg6</th>\n",
        "    </tr>\n",
        "    <tr>\n",
        "      <th>stressor</th>\n",
        "      <th>compartment</th>\n",
        "      <th></th>\n",
        "      <th></th>\n",
        "      <th></th>\n",
        "      <th></th>\n",
        "    </tr>\n",
        "  </thead>\n",
        "  <tbody>\n",
        "    <tr>\n",
        "      <th>emission_type1</th>\n",
        "      <th>air</th>\n",
        "      <td> 7.418425e+08</td>\n",
        "      <td> 4.117695e+08</td>\n",
        "      <td> 4.117692e+08</td>\n",
        "      <td> 7.905917e+08</td>\n",
        "    </tr>\n",
        "    <tr>\n",
        "      <th>emission_type2</th>\n",
        "      <th>water</th>\n",
        "      <td> 6.249320e+08</td>\n",
        "      <td> 1.300666e+08</td>\n",
        "      <td> 1.269026e+08</td>\n",
        "      <td> 2.420751e+08</td>\n",
        "    </tr>\n",
        "  </tbody>\n",
        "</table>\n",
        "<p>2 rows \u00d7 4 columns</p>\n",
        "</div>"
       ],
       "metadata": {},
       "output_type": "pyout",
       "prompt_number": 20,
       "text": [
        "region                                EU          reg4          reg5  \\\n",
        "stressor       compartment                                             \n",
        "emission_type1 air          7.418425e+08  4.117695e+08  4.117692e+08   \n",
        "emission_type2 water        6.249320e+08  1.300666e+08  1.269026e+08   \n",
        "\n",
        "region                              reg6  \n",
        "stressor       compartment                \n",
        "emission_type1 air          7.905917e+08  \n",
        "emission_type2 water        2.420751e+08  \n",
        "\n",
        "[2 rows x 4 columns]"
       ]
      }
     ],
     "prompt_number": 20
    },
    {
     "cell_type": "code",
     "collapsed": false,
     "input": [
      "mrio_EU.factor_inputs.plot_account(['Value Added'])"
     ],
     "language": "python",
     "metadata": {},
     "outputs": [
      {
       "metadata": {},
       "output_type": "pyout",
       "prompt_number": 21,
       "text": [
        "<matplotlib.axes.AxesSubplot at 0xaa87390>"
       ]
      },
      {
       "metadata": {},
       "output_type": "display_data",
       "png": "[encoded data removed]",
       "text": [
        "<matplotlib.figure.Figure at 0xab8d668>"
       ]
      }
     ],
     "prompt_number": 21
    },
    {
     "cell_type": "markdown",
     "metadata": {},
     "source": [
      "The same principle can be used to aggregate sectors."
     ]
    },
    {
     "cell_type": "heading",
     "level": 3,
     "metadata": {},
     "source": [
      "Saving"
     ]
    },
    {
     "cell_type": "markdown",
     "metadata": {},
     "source": [
      "Currently, the full MRIO system can be saved in txt or the python specific binary format ('pickle'). Both formats work with the same API interface:"
     ]
    },
    {
     "cell_type": "code",
     "collapsed": false,
     "input": [
      "mrio.save_all(r'C:\\Temp\\full_mrio_txt', table_format='txt')"
     ],
     "language": "python",
     "metadata": {},
     "outputs": [],
     "prompt_number": 22
    },
    {
     "cell_type": "code",
     "collapsed": false,
     "input": [
      "mrio.save_all(r'C:\\Temp\\full_mrio_pkl', table_format='pickle')"
     ],
     "language": "python",
     "metadata": {},
     "outputs": [],
     "prompt_number": 23
    },
    {
     "cell_type": "markdown",
     "metadata": {},
     "source": [
      "Loading the whole system works accodingly"
     ]
    },
    {
     "cell_type": "code",
     "collapsed": false,
     "input": [
      "mrio2 = mr.load(r'C:\\Temp\\full_mrio_pkl', recursive = True)"
     ],
     "language": "python",
     "metadata": {},
     "outputs": [],
     "prompt_number": 24
    },
    {
     "cell_type": "markdown",
     "metadata": {},
     "source": [
      "It is also possible, to save and load only individual parts of the MRIO system (e.g. only one type of extensions)."
     ]
    },
    {
     "cell_type": "markdown",
     "metadata": {},
     "source": [
      "Btw: loading the whole EXIOBASE 2 system from the binary format takes less than 1 sec."
     ]
    },
    {
     "cell_type": "heading",
     "level": 3,
     "metadata": {},
     "source": [
      "Output and report"
     ]
    },
    {
     "cell_type": "markdown",
     "metadata": {},
     "source": [
      "All tables in pymrio are based on pandas DataFrames. Therefore, all pandas function can be used to export into various formats e.g:"
     ]
    },
    {
     "cell_type": "code",
     "collapsed": false,
     "input": [
      "mrio.emissions.M.to_excel(r'C:\\Temp\\multiplier.xlsx')"
     ],
     "language": "python",
     "metadata": {},
     "outputs": [],
     "prompt_number": 25
    },
    {
     "cell_type": "code",
     "collapsed": false,
     "input": [
      "mrio.emissions.D_fp.to_html(r'C:\\Temp\\footprints.html')"
     ],
     "language": "python",
     "metadata": {},
     "outputs": [],
     "prompt_number": 26
    },
    {
     "cell_type": "markdown",
     "metadata": {},
     "source": [
      "Of course, it would be nice to have something like an automatically generated report. Lets see if we can do that:"
     ]
    },
    {
     "cell_type": "code",
     "collapsed": false,
     "input": [
      "mrio.report_accounts(r'C:\\Temp\\report', per_region=True, per_capita=True, format='html')"
     ],
     "language": "python",
     "metadata": {},
     "outputs": [],
     "prompt_number": 27
    }
   ],
   "metadata": {}
  }
 ]
}