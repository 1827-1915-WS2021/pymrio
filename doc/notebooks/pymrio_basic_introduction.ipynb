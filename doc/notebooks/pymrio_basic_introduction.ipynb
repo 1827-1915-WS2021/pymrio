{
 "cells": [
  {
   "cell_type": "markdown",
   "metadata": {},
   "source": [
    "# pymrio - multi regional input output analysis in python"
   ]
  },
  {
   "cell_type": "markdown",
   "metadata": {},
   "source": [
    "by Konstantin Stadler, NTNU"
   ]
  },
  {
   "cell_type": "markdown",
   "metadata": {},
   "source": [
    "pymrio is an open source tool for analysing global environmental extended multi-regional input-output tables (EE MRIOs). \n",
    "\n",
    "Source Repository: https://github.com/konstantinstadler/pymrio\n",
    "\n",
    "pymrio aims to provide a consistent framework for handling EE MRIOs. It include methods for \n",
    "\n",
    "- parsing global MRIOs\n",
    "- modifying region/sector classification\n",
    "- restructuring extensions\n",
    "- calculating various accounts (footprint, territorial, impacts embodied in trade)\n",
    "- exporting to various formats\n",
    "- visualization and \n",
    "- automated report generation\n",
    "\n",
    "Current development concentrates on methods for investigating the source of impacts, in depth analysis of the MRIO system and parsing further MRIO systems. "
   ]
  },
  {
   "cell_type": "markdown",
   "metadata": {},
   "source": [
    "## Installation"
   ]
  },
  {
   "cell_type": "markdown",
   "metadata": {},
   "source": [
    "Up to now now pymrio doesn't have a installation routine. Just download the package from the source repository (download zip on right toolstrip), extract and add the folder to your python path. "
   ]
  },
  {
   "cell_type": "code",
   "execution_count": 1,
   "metadata": {
    "collapsed": false
   },
   "outputs": [],
   "source": [
    "import sys\n",
    "_pymrio_path = r'S:\\pymrio-master'  \n",
    "if not _pymrio_path in sys.path:\n",
    "    sys.path.append(_pymrio_path)\n",
    "del _pymrio_path\n"
   ]
  },
  {
   "cell_type": "markdown",
   "metadata": {},
   "source": [
    "## Tutorial"
   ]
  },
  {
   "cell_type": "markdown",
   "metadata": {},
   "source": [
    "### Exploring the initial MRIO system"
   ]
  },
  {
   "cell_type": "markdown",
   "metadata": {},
   "source": [
    "pymrio comes with an small pseudo MRIO (test system). This can be used for development and testing MRIO routines and will be used in the following tutorial."
   ]
  },
  {
   "cell_type": "markdown",
   "metadata": {},
   "source": [
    "First import pymrio:"
   ]
  },
  {
   "cell_type": "code",
   "execution_count": 2,
   "metadata": {
    "collapsed": false
   },
   "outputs": [],
   "source": [
    "import pymrio as mr"
   ]
  },
  {
   "cell_type": "markdown",
   "metadata": {},
   "source": [
    "Load the test mrio. For parsing and loading the original EXIOBASE 2.2 files just use pmr.parse_exiobase22."
   ]
  },
  {
   "cell_type": "code",
   "execution_count": 3,
   "metadata": {
    "collapsed": false
   },
   "outputs": [],
   "source": [
    "mrio = mr.load_test()"
   ]
  },
  {
   "cell_type": "markdown",
   "metadata": {},
   "source": [
    "We can now explore the system. First we want to check whats in the system:"
   ]
  },
  {
   "cell_type": "code",
   "execution_count": 4,
   "metadata": {
    "collapsed": false
   },
   "outputs": [
    {
     "data": {
      "text/plain": [
       "'IO System with parameters: factor_inputs, name, price, version, year, emissions, Z, Y, population, unit'"
      ]
     },
     "execution_count": 4,
     "metadata": {},
     "output_type": "execute_result"
    }
   ],
   "source": [
    "str(mrio)"
   ]
  },
  {
   "cell_type": "markdown",
   "metadata": {},
   "source": [
    "Thus, the test system consists of \n",
    "\n",
    "    1) a trade flow matrix Z, \n",
    "    2) finald demand Y, \n",
    "    3) two extensions:\n",
    "    \n",
    "        - factor_inputs\n",
    "        - emissions\n",
    "        \n",
    "    4) and information to unit, price system, baseyear, version...\n",
    "    "
   ]
  },
  {
   "cell_type": "markdown",
   "metadata": {},
   "source": [
    "We can access the parameter with the standard python notations, for example"
   ]
  },
  {
   "cell_type": "code",
   "execution_count": 5,
   "metadata": {
    "collapsed": false
   },
   "outputs": [
    {
     "data": {
      "text/html": [
       "<div style=\"max-height:1000px;max-width:1500px;overflow:auto;\">\n",
       "<table border=\"1\" class=\"dataframe\">\n",
       "  <thead>\n",
       "    <tr>\n",
       "      <th></th>\n",
       "      <th>region</th>\n",
       "      <th colspan=\"8\" halign=\"left\">reg1</th>\n",
       "      <th colspan=\"2\" halign=\"left\">reg2</th>\n",
       "      <th>...</th>\n",
       "      <th colspan=\"2\" halign=\"left\">reg5</th>\n",
       "      <th colspan=\"8\" halign=\"left\">reg6</th>\n",
       "    </tr>\n",
       "    <tr>\n",
       "      <th></th>\n",
       "      <th>sector</th>\n",
       "      <th>food</th>\n",
       "      <th>mining</th>\n",
       "      <th>manufactoring</th>\n",
       "      <th>electricity</th>\n",
       "      <th>construction</th>\n",
       "      <th>trade</th>\n",
       "      <th>transport</th>\n",
       "      <th>other</th>\n",
       "      <th>food</th>\n",
       "      <th>mining</th>\n",
       "      <th>...</th>\n",
       "      <th>transport</th>\n",
       "      <th>other</th>\n",
       "      <th>food</th>\n",
       "      <th>mining</th>\n",
       "      <th>manufactoring</th>\n",
       "      <th>electricity</th>\n",
       "      <th>construction</th>\n",
       "      <th>trade</th>\n",
       "      <th>transport</th>\n",
       "      <th>other</th>\n",
       "    </tr>\n",
       "    <tr>\n",
       "      <th>region</th>\n",
       "      <th>sector</th>\n",
       "      <th></th>\n",
       "      <th></th>\n",
       "      <th></th>\n",
       "      <th></th>\n",
       "      <th></th>\n",
       "      <th></th>\n",
       "      <th></th>\n",
       "      <th></th>\n",
       "      <th></th>\n",
       "      <th></th>\n",
       "      <th></th>\n",
       "      <th></th>\n",
       "      <th></th>\n",
       "      <th></th>\n",
       "      <th></th>\n",
       "      <th></th>\n",
       "      <th></th>\n",
       "      <th></th>\n",
       "      <th></th>\n",
       "      <th></th>\n",
       "      <th></th>\n",
       "    </tr>\n",
       "  </thead>\n",
       "  <tbody>\n",
       "    <tr>\n",
       "      <th rowspan=\"8\" valign=\"top\">reg1</th>\n",
       "      <th>food</th>\n",
       "      <td> 23697.221000</td>\n",
       "      <td>   57.495387</td>\n",
       "      <td>  106490.980000</td>\n",
       "      <td>   195.903190</td>\n",
       "      <td>    230.136140</td>\n",
       "      <td>  11194.553000</td>\n",
       "      <td>    315.505250</td>\n",
       "      <td>    6231.682600</td>\n",
       "      <td>  1347.668200</td>\n",
       "      <td>    0.505602</td>\n",
       "      <td>...</td>\n",
       "      <td>     0.475580</td>\n",
       "      <td>     21.557342</td>\n",
       "      <td>   2897.532000</td>\n",
       "      <td>     17.686944</td>\n",
       "      <td>   1093.817900</td>\n",
       "      <td>     3.943083</td>\n",
       "      <td>    145.352150</td>\n",
       "      <td>    47.742124</td>\n",
       "      <td>      4.980785</td>\n",
       "      <td>     53.882153</td>\n",
       "    </tr>\n",
       "    <tr>\n",
       "      <th>mining</th>\n",
       "      <td>   257.183170</td>\n",
       "      <td> 2341.156500</td>\n",
       "      <td>   18697.682000</td>\n",
       "      <td>  6120.415900</td>\n",
       "      <td>   7595.179900</td>\n",
       "      <td>    661.997420</td>\n",
       "      <td>    257.657440</td>\n",
       "      <td>    1382.556600</td>\n",
       "      <td>     8.815022</td>\n",
       "      <td>   13.350824</td>\n",
       "      <td>...</td>\n",
       "      <td>     0.907444</td>\n",
       "      <td>      5.698124</td>\n",
       "      <td>      1.217529</td>\n",
       "      <td>    105.070330</td>\n",
       "      <td>    249.699740</td>\n",
       "      <td>   435.273300</td>\n",
       "      <td>     31.782763</td>\n",
       "      <td>     8.619002</td>\n",
       "      <td>      1.876006</td>\n",
       "      <td>      8.041560</td>\n",
       "    </tr>\n",
       "    <tr>\n",
       "      <th>manufactoring</th>\n",
       "      <td> 39540.225000</td>\n",
       "      <td> 6063.071000</td>\n",
       "      <td> 1133749.400000</td>\n",
       "      <td> 20674.380000</td>\n",
       "      <td> 201544.510000</td>\n",
       "      <td> 143663.740000</td>\n",
       "      <td>  65917.811000</td>\n",
       "      <td>  182796.810000</td>\n",
       "      <td>  2497.465100</td>\n",
       "      <td>  868.237240</td>\n",
       "      <td>...</td>\n",
       "      <td>  3702.811400</td>\n",
       "      <td>   5376.045900</td>\n",
       "      <td>   1099.831300</td>\n",
       "      <td>   2491.900100</td>\n",
       "      <td>  85603.679000</td>\n",
       "      <td>  1322.620700</td>\n",
       "      <td>   4230.636300</td>\n",
       "      <td>  2279.746900</td>\n",
       "      <td>   2561.721800</td>\n",
       "      <td>   6725.149500</td>\n",
       "    </tr>\n",
       "    <tr>\n",
       "      <th>electricity</th>\n",
       "      <td>  4039.179300</td>\n",
       "      <td> 1852.159000</td>\n",
       "      <td>   62038.378000</td>\n",
       "      <td> 62177.762000</td>\n",
       "      <td>   4389.448300</td>\n",
       "      <td>  20077.943000</td>\n",
       "      <td>   9312.111800</td>\n",
       "      <td>   40471.331000</td>\n",
       "      <td>    65.039614</td>\n",
       "      <td>   54.781214</td>\n",
       "      <td>...</td>\n",
       "      <td>    72.020718</td>\n",
       "      <td>    255.479070</td>\n",
       "      <td>     15.612389</td>\n",
       "      <td>     10.614954</td>\n",
       "      <td>    409.410580</td>\n",
       "      <td>    21.019857</td>\n",
       "      <td>      6.529050</td>\n",
       "      <td>    53.969911</td>\n",
       "      <td>     28.718090</td>\n",
       "      <td>     71.693223</td>\n",
       "    </tr>\n",
       "    <tr>\n",
       "      <th>construction</th>\n",
       "      <td>  1235.475700</td>\n",
       "      <td>  844.585880</td>\n",
       "      <td>   15077.254000</td>\n",
       "      <td>  6711.257700</td>\n",
       "      <td> 173724.370000</td>\n",
       "      <td>  10717.539000</td>\n",
       "      <td>  11183.202000</td>\n",
       "      <td>   92489.190000</td>\n",
       "      <td>     2.394159</td>\n",
       "      <td>    1.087897</td>\n",
       "      <td>...</td>\n",
       "      <td>     9.894583</td>\n",
       "      <td>     27.581148</td>\n",
       "      <td>      0.316425</td>\n",
       "      <td>      0.912248</td>\n",
       "      <td>      5.984607</td>\n",
       "      <td>     0.555307</td>\n",
       "      <td>      8.644934</td>\n",
       "      <td>     0.510067</td>\n",
       "      <td>      2.473875</td>\n",
       "      <td>      7.521155</td>\n",
       "    </tr>\n",
       "    <tr>\n",
       "      <th>trade</th>\n",
       "      <td> 15734.902000</td>\n",
       "      <td> 1727.254800</td>\n",
       "      <td>  268598.810000</td>\n",
       "      <td>  7880.960000</td>\n",
       "      <td>  54269.483000</td>\n",
       "      <td>  80768.016000</td>\n",
       "      <td>  35457.335000</td>\n",
       "      <td>   93377.098000</td>\n",
       "      <td>   592.064100</td>\n",
       "      <td>   91.539243</td>\n",
       "      <td>...</td>\n",
       "      <td>  1292.071700</td>\n",
       "      <td>   1833.041600</td>\n",
       "      <td>   1530.189700</td>\n",
       "      <td>    665.551640</td>\n",
       "      <td>   9191.790800</td>\n",
       "      <td>   215.202030</td>\n",
       "      <td>   1643.212300</td>\n",
       "      <td>  2015.834000</td>\n",
       "      <td>   1725.931600</td>\n",
       "      <td>   1588.858300</td>\n",
       "    </tr>\n",
       "    <tr>\n",
       "      <th>transport</th>\n",
       "      <td>  3272.995500</td>\n",
       "      <td> 2940.896000</td>\n",
       "      <td>  119092.550000</td>\n",
       "      <td>  7177.094100</td>\n",
       "      <td>  13825.505000</td>\n",
       "      <td> 105903.790000</td>\n",
       "      <td> 207849.080000</td>\n",
       "      <td>  101484.090000</td>\n",
       "      <td>   114.600160</td>\n",
       "      <td>   76.989788</td>\n",
       "      <td>...</td>\n",
       "      <td>  1237.832600</td>\n",
       "      <td>    449.228650</td>\n",
       "      <td>   1317.822100</td>\n",
       "      <td>   7825.311000</td>\n",
       "      <td>   9949.422700</td>\n",
       "      <td>   507.907480</td>\n",
       "      <td>    558.595620</td>\n",
       "      <td>  1635.742400</td>\n",
       "      <td>  11998.647000</td>\n",
       "      <td>   1259.552500</td>\n",
       "    </tr>\n",
       "    <tr>\n",
       "      <th>other</th>\n",
       "      <td> 19258.250000</td>\n",
       "      <td> 4488.062900</td>\n",
       "      <td>  402431.890000</td>\n",
       "      <td> 33830.992000</td>\n",
       "      <td> 103982.010000</td>\n",
       "      <td> 275773.060000</td>\n",
       "      <td> 114951.670000</td>\n",
       "      <td> 1021037.100000</td>\n",
       "      <td>   297.788890</td>\n",
       "      <td>  250.448290</td>\n",
       "      <td>...</td>\n",
       "      <td>   310.867060</td>\n",
       "      <td>   3172.543900</td>\n",
       "      <td>    171.830290</td>\n",
       "      <td>    392.403330</td>\n",
       "      <td>   1858.012600</td>\n",
       "      <td>   240.253910</td>\n",
       "      <td>    521.776580</td>\n",
       "      <td>  1192.311400</td>\n",
       "      <td>    639.338580</td>\n",
       "      <td>   2966.551300</td>\n",
       "    </tr>\n",
       "    <tr>\n",
       "      <th rowspan=\"2\" valign=\"top\">reg2</th>\n",
       "      <th>food</th>\n",
       "      <td>   874.878840</td>\n",
       "      <td>    4.103867</td>\n",
       "      <td>    2606.425100</td>\n",
       "      <td>   179.919920</td>\n",
       "      <td>    218.707210</td>\n",
       "      <td>    340.823980</td>\n",
       "      <td>     12.237848</td>\n",
       "      <td>     246.634950</td>\n",
       "      <td> 19432.421000</td>\n",
       "      <td>   31.778829</td>\n",
       "      <td>...</td>\n",
       "      <td>     0.218797</td>\n",
       "      <td>      9.389635</td>\n",
       "      <td>   1611.168200</td>\n",
       "      <td>     37.074513</td>\n",
       "      <td>    973.868750</td>\n",
       "      <td>    13.544720</td>\n",
       "      <td>    512.517340</td>\n",
       "      <td>   125.503340</td>\n",
       "      <td>      7.877189</td>\n",
       "      <td>     83.185126</td>\n",
       "    </tr>\n",
       "    <tr>\n",
       "      <th>mining</th>\n",
       "      <td>    77.779107</td>\n",
       "      <td>   25.509309</td>\n",
       "      <td>    3273.211700</td>\n",
       "      <td>   602.649080</td>\n",
       "      <td>     86.239127</td>\n",
       "      <td>    120.640790</td>\n",
       "      <td>     20.917582</td>\n",
       "      <td>     143.679670</td>\n",
       "      <td>   239.216210</td>\n",
       "      <td> 2537.526000</td>\n",
       "      <td>...</td>\n",
       "      <td>     0.172433</td>\n",
       "      <td>      1.064354</td>\n",
       "      <td>      0.366857</td>\n",
       "      <td>     37.105575</td>\n",
       "      <td>    271.668290</td>\n",
       "      <td>   544.071720</td>\n",
       "      <td>     10.369370</td>\n",
       "      <td>    11.654668</td>\n",
       "      <td>      0.131318</td>\n",
       "      <td>      3.013247</td>\n",
       "    </tr>\n",
       "    <tr>\n",
       "      <th>...</th>\n",
       "      <th>...</th>\n",
       "      <td>...</td>\n",
       "      <td>...</td>\n",
       "      <td>...</td>\n",
       "      <td>...</td>\n",
       "      <td>...</td>\n",
       "      <td>...</td>\n",
       "      <td>...</td>\n",
       "      <td>...</td>\n",
       "      <td>...</td>\n",
       "      <td>...</td>\n",
       "      <td>...</td>\n",
       "      <td>...</td>\n",
       "      <td>...</td>\n",
       "      <td>...</td>\n",
       "      <td>...</td>\n",
       "      <td>...</td>\n",
       "      <td>...</td>\n",
       "      <td>...</td>\n",
       "      <td>...</td>\n",
       "      <td>...</td>\n",
       "      <td>...</td>\n",
       "    </tr>\n",
       "    <tr>\n",
       "      <th rowspan=\"2\" valign=\"top\">reg5</th>\n",
       "      <th>transport</th>\n",
       "      <td>    79.582514</td>\n",
       "      <td>   56.246613</td>\n",
       "      <td>    3486.216100</td>\n",
       "      <td>   238.248970</td>\n",
       "      <td>    242.048770</td>\n",
       "      <td>   1951.667300</td>\n",
       "      <td>   4176.362600</td>\n",
       "      <td>    1382.621600</td>\n",
       "      <td>    76.394462</td>\n",
       "      <td>   40.893223</td>\n",
       "      <td>...</td>\n",
       "      <td> 42469.567000</td>\n",
       "      <td>  54633.296000</td>\n",
       "      <td>    651.597020</td>\n",
       "      <td>   3093.341000</td>\n",
       "      <td>   3462.950200</td>\n",
       "      <td>   140.118950</td>\n",
       "      <td>    263.286040</td>\n",
       "      <td>   568.825910</td>\n",
       "      <td>   3483.308800</td>\n",
       "      <td>    736.723950</td>\n",
       "    </tr>\n",
       "    <tr>\n",
       "      <th>other</th>\n",
       "      <td>    47.972935</td>\n",
       "      <td>   16.897852</td>\n",
       "      <td>    2684.437100</td>\n",
       "      <td>   197.878620</td>\n",
       "      <td>    324.211310</td>\n",
       "      <td>   1014.807000</td>\n",
       "      <td>    645.379610</td>\n",
       "      <td>    5371.002300</td>\n",
       "      <td>    18.303225</td>\n",
       "      <td>   25.531807</td>\n",
       "      <td>...</td>\n",
       "      <td> 52573.140000</td>\n",
       "      <td> 377930.870000</td>\n",
       "      <td>    278.876330</td>\n",
       "      <td>    677.654360</td>\n",
       "      <td>   2553.829700</td>\n",
       "      <td>   509.939100</td>\n",
       "      <td>    484.160090</td>\n",
       "      <td>  1811.891000</td>\n",
       "      <td>    843.410030</td>\n",
       "      <td>   4095.859600</td>\n",
       "    </tr>\n",
       "    <tr>\n",
       "      <th rowspan=\"8\" valign=\"top\">reg6</th>\n",
       "      <th>food</th>\n",
       "      <td>  1427.528100</td>\n",
       "      <td>    6.948576</td>\n",
       "      <td>    4408.745400</td>\n",
       "      <td>   259.289860</td>\n",
       "      <td>    284.021220</td>\n",
       "      <td>    544.456110</td>\n",
       "      <td>     68.985878</td>\n",
       "      <td>     368.525410</td>\n",
       "      <td>  1012.128900</td>\n",
       "      <td>    4.639774</td>\n",
       "      <td>...</td>\n",
       "      <td>     1.904379</td>\n",
       "      <td>     52.546542</td>\n",
       "      <td> 308669.810000</td>\n",
       "      <td>    830.808040</td>\n",
       "      <td> 193757.900000</td>\n",
       "      <td>   488.452620</td>\n",
       "      <td>   3330.255700</td>\n",
       "      <td> 13317.293000</td>\n",
       "      <td>    339.392440</td>\n",
       "      <td>  12783.277000</td>\n",
       "    </tr>\n",
       "    <tr>\n",
       "      <th>mining</th>\n",
       "      <td>   225.075690</td>\n",
       "      <td>  363.483630</td>\n",
       "      <td>   60659.986000</td>\n",
       "      <td> 18999.843000</td>\n",
       "      <td>    596.370220</td>\n",
       "      <td>   2312.955600</td>\n",
       "      <td>    437.859890</td>\n",
       "      <td>    2945.785500</td>\n",
       "      <td>    30.285906</td>\n",
       "      <td>  277.489380</td>\n",
       "      <td>...</td>\n",
       "      <td>    31.271865</td>\n",
       "      <td>    220.876840</td>\n",
       "      <td>   2583.324700</td>\n",
       "      <td> 180501.140000</td>\n",
       "      <td> 500701.720000</td>\n",
       "      <td> 55725.871000</td>\n",
       "      <td>  39543.291000</td>\n",
       "      <td>  7252.170000</td>\n",
       "      <td>   1533.492000</td>\n",
       "      <td>   7824.420200</td>\n",
       "    </tr>\n",
       "    <tr>\n",
       "      <th>manufactoring</th>\n",
       "      <td>  3205.378500</td>\n",
       "      <td>  284.756270</td>\n",
       "      <td>   73382.716000</td>\n",
       "      <td>  2381.148500</td>\n",
       "      <td>   5100.412400</td>\n",
       "      <td>   6531.291100</td>\n",
       "      <td>   6121.226400</td>\n",
       "      <td>   10810.217000</td>\n",
       "      <td>  1275.105000</td>\n",
       "      <td>  288.305440</td>\n",
       "      <td>...</td>\n",
       "      <td>  5866.832800</td>\n",
       "      <td>   6534.810200</td>\n",
       "      <td> 101853.030000</td>\n",
       "      <td>  60209.444000</td>\n",
       "      <td> 994653.180000</td>\n",
       "      <td> 17102.374000</td>\n",
       "      <td> 199135.410000</td>\n",
       "      <td> 80804.303000</td>\n",
       "      <td>  92983.680000</td>\n",
       "      <td>  98252.212000</td>\n",
       "    </tr>\n",
       "    <tr>\n",
       "      <th>electricity</th>\n",
       "      <td>    13.296250</td>\n",
       "      <td>    9.598524</td>\n",
       "      <td>     238.054850</td>\n",
       "      <td>   153.212170</td>\n",
       "      <td>     12.903025</td>\n",
       "      <td>     29.984584</td>\n",
       "      <td>     14.705736</td>\n",
       "      <td>      70.794513</td>\n",
       "      <td>     7.448440</td>\n",
       "      <td>    8.373375</td>\n",
       "      <td>...</td>\n",
       "      <td>     6.163299</td>\n",
       "      <td>     65.050510</td>\n",
       "      <td>   3519.937600</td>\n",
       "      <td>   8103.110600</td>\n",
       "      <td>  42152.491000</td>\n",
       "      <td> 17455.889000</td>\n",
       "      <td>   1715.989300</td>\n",
       "      <td> 11283.622000</td>\n",
       "      <td>   4434.025000</td>\n",
       "      <td>  15120.295000</td>\n",
       "    </tr>\n",
       "    <tr>\n",
       "      <th>construction</th>\n",
       "      <td>     2.200030</td>\n",
       "      <td>    1.850223</td>\n",
       "      <td>      48.190443</td>\n",
       "      <td>    13.324687</td>\n",
       "      <td>    169.463490</td>\n",
       "      <td>     17.929746</td>\n",
       "      <td>     12.748649</td>\n",
       "      <td>     157.355220</td>\n",
       "      <td>     2.662385</td>\n",
       "      <td>    1.145049</td>\n",
       "      <td>...</td>\n",
       "      <td>    33.661483</td>\n",
       "      <td>     93.191981</td>\n",
       "      <td>   1633.293100</td>\n",
       "      <td>   2437.178200</td>\n",
       "      <td>   4004.966700</td>\n",
       "      <td>  1277.208400</td>\n",
       "      <td>  20051.518000</td>\n",
       "      <td>  3243.084300</td>\n",
       "      <td>   4382.833700</td>\n",
       "      <td>  16240.048000</td>\n",
       "    </tr>\n",
       "    <tr>\n",
       "      <th>trade</th>\n",
       "      <td>    52.927724</td>\n",
       "      <td>   10.169959</td>\n",
       "      <td>    1082.116500</td>\n",
       "      <td>    51.908459</td>\n",
       "      <td>    232.430400</td>\n",
       "      <td>    492.539830</td>\n",
       "      <td>    699.022450</td>\n",
       "      <td>     878.511950</td>\n",
       "      <td>    46.663322</td>\n",
       "      <td>    9.172153</td>\n",
       "      <td>...</td>\n",
       "      <td>   266.492430</td>\n",
       "      <td>    902.539910</td>\n",
       "      <td>  14400.107000</td>\n",
       "      <td>   5612.888700</td>\n",
       "      <td> 116088.310000</td>\n",
       "      <td>  2304.998700</td>\n",
       "      <td>  23467.531000</td>\n",
       "      <td> 29182.069000</td>\n",
       "      <td>  35501.917000</td>\n",
       "      <td>  31658.284000</td>\n",
       "    </tr>\n",
       "    <tr>\n",
       "      <th>transport</th>\n",
       "      <td>   105.779700</td>\n",
       "      <td>  128.517840</td>\n",
       "      <td>    4471.746800</td>\n",
       "      <td>   252.706500</td>\n",
       "      <td>    243.654010</td>\n",
       "      <td>   2132.273400</td>\n",
       "      <td>   4735.236100</td>\n",
       "      <td>    1234.333900</td>\n",
       "      <td>    39.418674</td>\n",
       "      <td>  115.042580</td>\n",
       "      <td>...</td>\n",
       "      <td>   317.890020</td>\n",
       "      <td>    690.093060</td>\n",
       "      <td>  17725.437000</td>\n",
       "      <td>  48140.807000</td>\n",
       "      <td>  77555.021000</td>\n",
       "      <td>  2768.682800</td>\n",
       "      <td>  17358.288000</td>\n",
       "      <td> 39964.926000</td>\n",
       "      <td> 120128.160000</td>\n",
       "      <td>  43491.545000</td>\n",
       "    </tr>\n",
       "    <tr>\n",
       "      <th>other</th>\n",
       "      <td>    50.024168</td>\n",
       "      <td>   24.598865</td>\n",
       "      <td>    1239.261100</td>\n",
       "      <td>   113.752330</td>\n",
       "      <td>    239.489330</td>\n",
       "      <td>    754.294850</td>\n",
       "      <td>    488.043760</td>\n",
       "      <td>    3102.954800</td>\n",
       "      <td>    36.105405</td>\n",
       "      <td>   40.086025</td>\n",
       "      <td>...</td>\n",
       "      <td>   114.381920</td>\n",
       "      <td>   1693.020100</td>\n",
       "      <td>   9116.310200</td>\n",
       "      <td>  24501.394000</td>\n",
       "      <td> 105319.740000</td>\n",
       "      <td>  7942.938700</td>\n",
       "      <td>  47639.225000</td>\n",
       "      <td> 89295.958000</td>\n",
       "      <td>  65602.856000</td>\n",
       "      <td> 217075.920000</td>\n",
       "    </tr>\n",
       "  </tbody>\n",
       "</table>\n",
       "<p>48 rows × 48 columns</p>\n",
       "</div>"
      ],
      "text/plain": [
       "region                        reg1                                             \\\n",
       "sector                        food       mining   manufactoring   electricity   \n",
       "region sector                                                                   \n",
       "reg1   food           23697.221000    57.495387   106490.980000    195.903190   \n",
       "       mining           257.183170  2341.156500    18697.682000   6120.415900   \n",
       "       manufactoring  39540.225000  6063.071000  1133749.400000  20674.380000   \n",
       "       electricity     4039.179300  1852.159000    62038.378000  62177.762000   \n",
       "       construction    1235.475700   844.585880    15077.254000   6711.257700   \n",
       "       trade          15734.902000  1727.254800   268598.810000   7880.960000   \n",
       "       transport       3272.995500  2940.896000   119092.550000   7177.094100   \n",
       "       other          19258.250000  4488.062900   402431.890000  33830.992000   \n",
       "reg2   food             874.878840     4.103867     2606.425100    179.919920   \n",
       "       mining            77.779107    25.509309     3273.211700    602.649080   \n",
       "...                            ...          ...             ...           ...   \n",
       "reg5   transport         79.582514    56.246613     3486.216100    238.248970   \n",
       "       other             47.972935    16.897852     2684.437100    197.878620   \n",
       "reg6   food            1427.528100     6.948576     4408.745400    259.289860   \n",
       "       mining           225.075690   363.483630    60659.986000  18999.843000   \n",
       "       manufactoring   3205.378500   284.756270    73382.716000   2381.148500   \n",
       "       electricity       13.296250     9.598524      238.054850    153.212170   \n",
       "       construction       2.200030     1.850223       48.190443     13.324687   \n",
       "       trade             52.927724    10.169959     1082.116500     51.908459   \n",
       "       transport        105.779700   128.517840     4471.746800    252.706500   \n",
       "       other             50.024168    24.598865     1239.261100    113.752330   \n",
       "\n",
       "region                                                             \\\n",
       "sector                 construction          trade      transport   \n",
       "region sector                                                       \n",
       "reg1   food              230.136140   11194.553000     315.505250   \n",
       "       mining           7595.179900     661.997420     257.657440   \n",
       "       manufactoring  201544.510000  143663.740000   65917.811000   \n",
       "       electricity      4389.448300   20077.943000    9312.111800   \n",
       "       construction   173724.370000   10717.539000   11183.202000   \n",
       "       trade           54269.483000   80768.016000   35457.335000   \n",
       "       transport       13825.505000  105903.790000  207849.080000   \n",
       "       other          103982.010000  275773.060000  114951.670000   \n",
       "reg2   food              218.707210     340.823980      12.237848   \n",
       "       mining             86.239127     120.640790      20.917582   \n",
       "...                             ...            ...            ...   \n",
       "reg5   transport         242.048770    1951.667300    4176.362600   \n",
       "       other             324.211310    1014.807000     645.379610   \n",
       "reg6   food              284.021220     544.456110      68.985878   \n",
       "       mining            596.370220    2312.955600     437.859890   \n",
       "       manufactoring    5100.412400    6531.291100    6121.226400   \n",
       "       electricity        12.903025      29.984584      14.705736   \n",
       "       construction      169.463490      17.929746      12.748649   \n",
       "       trade             232.430400     492.539830     699.022450   \n",
       "       transport         243.654010    2132.273400    4735.236100   \n",
       "       other             239.489330     754.294850     488.043760   \n",
       "\n",
       "region                                        reg2               \\\n",
       "sector                         other          food       mining   \n",
       "region sector                                                     \n",
       "reg1   food              6231.682600   1347.668200     0.505602   \n",
       "       mining            1382.556600      8.815022    13.350824   \n",
       "       manufactoring   182796.810000   2497.465100   868.237240   \n",
       "       electricity      40471.331000     65.039614    54.781214   \n",
       "       construction     92489.190000      2.394159     1.087897   \n",
       "       trade            93377.098000    592.064100    91.539243   \n",
       "       transport       101484.090000    114.600160    76.989788   \n",
       "       other          1021037.100000    297.788890   250.448290   \n",
       "reg2   food               246.634950  19432.421000    31.778829   \n",
       "       mining             143.679670    239.216210  2537.526000   \n",
       "...                              ...           ...          ...   \n",
       "reg5   transport         1382.621600     76.394462    40.893223   \n",
       "       other             5371.002300     18.303225    25.531807   \n",
       "reg6   food               368.525410   1012.128900     4.639774   \n",
       "       mining            2945.785500     30.285906   277.489380   \n",
       "       manufactoring    10810.217000   1275.105000   288.305440   \n",
       "       electricity         70.794513      7.448440     8.373375   \n",
       "       construction       157.355220      2.662385     1.145049   \n",
       "       trade              878.511950     46.663322     9.172153   \n",
       "       transport         1234.333900     39.418674   115.042580   \n",
       "       other             3102.954800     36.105405    40.086025   \n",
       "\n",
       "region                    ...                reg5                 \\\n",
       "sector                    ...           transport          other   \n",
       "region sector             ...                                      \n",
       "reg1   food               ...            0.475580      21.557342   \n",
       "       mining             ...            0.907444       5.698124   \n",
       "       manufactoring      ...         3702.811400    5376.045900   \n",
       "       electricity        ...           72.020718     255.479070   \n",
       "       construction       ...            9.894583      27.581148   \n",
       "       trade              ...         1292.071700    1833.041600   \n",
       "       transport          ...         1237.832600     449.228650   \n",
       "       other              ...          310.867060    3172.543900   \n",
       "reg2   food               ...            0.218797       9.389635   \n",
       "       mining             ...            0.172433       1.064354   \n",
       "...                       ...                 ...            ...   \n",
       "reg5   transport          ...        42469.567000   54633.296000   \n",
       "       other              ...        52573.140000  377930.870000   \n",
       "reg6   food               ...            1.904379      52.546542   \n",
       "       mining             ...           31.271865     220.876840   \n",
       "       manufactoring      ...         5866.832800    6534.810200   \n",
       "       electricity        ...            6.163299      65.050510   \n",
       "       construction       ...           33.661483      93.191981   \n",
       "       trade              ...          266.492430     902.539910   \n",
       "       transport          ...          317.890020     690.093060   \n",
       "       other              ...          114.381920    1693.020100   \n",
       "\n",
       "region                         reg6                                \\\n",
       "sector                         food         mining  manufactoring   \n",
       "region sector                                                       \n",
       "reg1   food             2897.532000      17.686944    1093.817900   \n",
       "       mining              1.217529     105.070330     249.699740   \n",
       "       manufactoring    1099.831300    2491.900100   85603.679000   \n",
       "       electricity        15.612389      10.614954     409.410580   \n",
       "       construction        0.316425       0.912248       5.984607   \n",
       "       trade            1530.189700     665.551640    9191.790800   \n",
       "       transport        1317.822100    7825.311000    9949.422700   \n",
       "       other             171.830290     392.403330    1858.012600   \n",
       "reg2   food             1611.168200      37.074513     973.868750   \n",
       "       mining              0.366857      37.105575     271.668290   \n",
       "...                             ...            ...            ...   \n",
       "reg5   transport         651.597020    3093.341000    3462.950200   \n",
       "       other             278.876330     677.654360    2553.829700   \n",
       "reg6   food           308669.810000     830.808040  193757.900000   \n",
       "       mining           2583.324700  180501.140000  500701.720000   \n",
       "       manufactoring  101853.030000   60209.444000  994653.180000   \n",
       "       electricity      3519.937600    8103.110600   42152.491000   \n",
       "       construction     1633.293100    2437.178200    4004.966700   \n",
       "       trade           14400.107000    5612.888700  116088.310000   \n",
       "       transport       17725.437000   48140.807000   77555.021000   \n",
       "       other            9116.310200   24501.394000  105319.740000   \n",
       "\n",
       "region                                                           \\\n",
       "sector                 electricity   construction         trade   \n",
       "region sector                                                     \n",
       "reg1   food               3.943083     145.352150     47.742124   \n",
       "       mining           435.273300      31.782763      8.619002   \n",
       "       manufactoring   1322.620700    4230.636300   2279.746900   \n",
       "       electricity       21.019857       6.529050     53.969911   \n",
       "       construction       0.555307       8.644934      0.510067   \n",
       "       trade            215.202030    1643.212300   2015.834000   \n",
       "       transport        507.907480     558.595620   1635.742400   \n",
       "       other            240.253910     521.776580   1192.311400   \n",
       "reg2   food              13.544720     512.517340    125.503340   \n",
       "       mining           544.071720      10.369370     11.654668   \n",
       "...                            ...            ...           ...   \n",
       "reg5   transport        140.118950     263.286040    568.825910   \n",
       "       other            509.939100     484.160090   1811.891000   \n",
       "reg6   food             488.452620    3330.255700  13317.293000   \n",
       "       mining         55725.871000   39543.291000   7252.170000   \n",
       "       manufactoring  17102.374000  199135.410000  80804.303000   \n",
       "       electricity    17455.889000    1715.989300  11283.622000   \n",
       "       construction    1277.208400   20051.518000   3243.084300   \n",
       "       trade           2304.998700   23467.531000  29182.069000   \n",
       "       transport       2768.682800   17358.288000  39964.926000   \n",
       "       other           7942.938700   47639.225000  89295.958000   \n",
       "\n",
       "region                                              \n",
       "sector                    transport          other  \n",
       "region sector                                       \n",
       "reg1   food                4.980785      53.882153  \n",
       "       mining              1.876006       8.041560  \n",
       "       manufactoring    2561.721800    6725.149500  \n",
       "       electricity        28.718090      71.693223  \n",
       "       construction        2.473875       7.521155  \n",
       "       trade            1725.931600    1588.858300  \n",
       "       transport       11998.647000    1259.552500  \n",
       "       other             639.338580    2966.551300  \n",
       "reg2   food                7.877189      83.185126  \n",
       "       mining              0.131318       3.013247  \n",
       "...                             ...            ...  \n",
       "reg5   transport        3483.308800     736.723950  \n",
       "       other             843.410030    4095.859600  \n",
       "reg6   food              339.392440   12783.277000  \n",
       "       mining           1533.492000    7824.420200  \n",
       "       manufactoring   92983.680000   98252.212000  \n",
       "       electricity      4434.025000   15120.295000  \n",
       "       construction     4382.833700   16240.048000  \n",
       "       trade           35501.917000   31658.284000  \n",
       "       transport      120128.160000   43491.545000  \n",
       "       other           65602.856000  217075.920000  \n",
       "\n",
       "[48 rows x 48 columns]"
      ]
     },
     "execution_count": 5,
     "metadata": {},
     "output_type": "execute_result"
    }
   ],
   "source": [
    "mrio.Z"
   ]
  },
  {
   "cell_type": "markdown",
   "metadata": {},
   "source": [
    "Show the Z matrix as a heatmap"
   ]
  },
  {
   "cell_type": "code",
   "execution_count": 6,
   "metadata": {
    "collapsed": false
   },
   "outputs": [
    {
     "data": {
      "text/plain": [
       "<matplotlib.text.Text at 0xac74f60>"
      ]
     },
     "execution_count": 6,
     "metadata": {},
     "output_type": "execute_result"
    },
    {
     "data": {
      "image/png": "[encoded data removed]",
      "text/plain": [
       "<matplotlib.figure.Figure at 0x77785c0>"
      ]
     },
     "metadata": {},
     "output_type": "display_data"
    }
   ],
   "source": [
    "import seaborn # just for finer graphics\n",
    "imshow(mrio.Z,vmax = 5E4)\n",
    "xlabel('sectors')\n",
    "ylabel('sectors')"
   ]
  },
  {
   "cell_type": "markdown",
   "metadata": {},
   "source": [
    "There are also some functions availabe with provide some structural information, for example"
   ]
  },
  {
   "cell_type": "code",
   "execution_count": 7,
   "metadata": {
    "collapsed": false
   },
   "outputs": [
    {
     "name": "stdout",
     "output_type": "stream",
     "text": [
      "['reg1' 'reg2' 'reg3' 'reg4' 'reg5' 'reg6']\n"
     ]
    }
   ],
   "source": [
    "print(mrio.get_regions())"
   ]
  },
  {
   "cell_type": "markdown",
   "metadata": {},
   "source": [
    "Extensions are objects within the MRIO system and can be accessed as attributes. The same methods as for the core IO System are available, for example"
   ]
  },
  {
   "cell_type": "code",
   "execution_count": 8,
   "metadata": {
    "collapsed": false
   },
   "outputs": [
    {
     "data": {
      "text/plain": [
       "'Extension Emissions with parameters: F, FY, unit, name'"
      ]
     },
     "execution_count": 8,
     "metadata": {},
     "output_type": "execute_result"
    }
   ],
   "source": [
    "str(mrio.emissions)"
   ]
  },
  {
   "cell_type": "code",
   "execution_count": 9,
   "metadata": {
    "collapsed": false
   },
   "outputs": [
    {
     "data": {
      "text/html": [
       "<div style=\"max-height:1000px;max-width:1500px;overflow:auto;\">\n",
       "<table border=\"1\" class=\"dataframe\">\n",
       "  <thead>\n",
       "    <tr>\n",
       "      <th></th>\n",
       "      <th>region</th>\n",
       "      <th colspan=\"8\" halign=\"left\">reg1</th>\n",
       "      <th colspan=\"2\" halign=\"left\">reg2</th>\n",
       "      <th>...</th>\n",
       "      <th colspan=\"2\" halign=\"left\">reg5</th>\n",
       "      <th colspan=\"8\" halign=\"left\">reg6</th>\n",
       "    </tr>\n",
       "    <tr>\n",
       "      <th></th>\n",
       "      <th>sector</th>\n",
       "      <th>food</th>\n",
       "      <th>mining</th>\n",
       "      <th>manufactoring</th>\n",
       "      <th>electricity</th>\n",
       "      <th>construction</th>\n",
       "      <th>trade</th>\n",
       "      <th>transport</th>\n",
       "      <th>other</th>\n",
       "      <th>food</th>\n",
       "      <th>mining</th>\n",
       "      <th>...</th>\n",
       "      <th>transport</th>\n",
       "      <th>other</th>\n",
       "      <th>food</th>\n",
       "      <th>mining</th>\n",
       "      <th>manufactoring</th>\n",
       "      <th>electricity</th>\n",
       "      <th>construction</th>\n",
       "      <th>trade</th>\n",
       "      <th>transport</th>\n",
       "      <th>other</th>\n",
       "    </tr>\n",
       "    <tr>\n",
       "      <th>stressor</th>\n",
       "      <th>compartment</th>\n",
       "      <th></th>\n",
       "      <th></th>\n",
       "      <th></th>\n",
       "      <th></th>\n",
       "      <th></th>\n",
       "      <th></th>\n",
       "      <th></th>\n",
       "      <th></th>\n",
       "      <th></th>\n",
       "      <th></th>\n",
       "      <th></th>\n",
       "      <th></th>\n",
       "      <th></th>\n",
       "      <th></th>\n",
       "      <th></th>\n",
       "      <th></th>\n",
       "      <th></th>\n",
       "      <th></th>\n",
       "      <th></th>\n",
       "      <th></th>\n",
       "      <th></th>\n",
       "    </tr>\n",
       "  </thead>\n",
       "  <tbody>\n",
       "    <tr>\n",
       "      <th>emission_type1</th>\n",
       "      <th>air</th>\n",
       "      <td> 1848064.80</td>\n",
       "      <td> 986448.090</td>\n",
       "      <td> 23613787.00</td>\n",
       "      <td> 28139100.00</td>\n",
       "      <td> 2584141.80</td>\n",
       "      <td> 4132656.3</td>\n",
       "      <td> 21766987.0</td>\n",
       "      <td> 7842090.6</td>\n",
       "      <td> 1697937.30</td>\n",
       "      <td> 347378.150</td>\n",
       "      <td>...</td>\n",
       "      <td> 42299319</td>\n",
       "      <td> 10773826.0</td>\n",
       "      <td> 15777996.0</td>\n",
       "      <td> 6420955.5</td>\n",
       "      <td> 113172450</td>\n",
       "      <td> 56022534.0</td>\n",
       "      <td> 4861838.5</td>\n",
       "      <td> 18195621</td>\n",
       "      <td> 47046542.0</td>\n",
       "      <td> 21632868</td>\n",
       "    </tr>\n",
       "    <tr>\n",
       "      <th>emission_type2</th>\n",
       "      <th>water</th>\n",
       "      <td>  139250.47</td>\n",
       "      <td>  22343.295</td>\n",
       "      <td>   763569.18</td>\n",
       "      <td>   273981.55</td>\n",
       "      <td>  317396.51</td>\n",
       "      <td> 1254477.8</td>\n",
       "      <td>  1012999.1</td>\n",
       "      <td> 2449178.0</td>\n",
       "      <td>  204835.44</td>\n",
       "      <td>  29463.944</td>\n",
       "      <td>...</td>\n",
       "      <td>  4199841</td>\n",
       "      <td>  7191006.3</td>\n",
       "      <td>  4826108.1</td>\n",
       "      <td> 1865625.1</td>\n",
       "      <td>  12700193</td>\n",
       "      <td>   753213.7</td>\n",
       "      <td> 2699288.3</td>\n",
       "      <td> 13892313</td>\n",
       "      <td>  8765784.3</td>\n",
       "      <td> 16782553</td>\n",
       "    </tr>\n",
       "  </tbody>\n",
       "</table>\n",
       "<p>2 rows × 48 columns</p>\n",
       "</div>"
      ],
      "text/plain": [
       "region                            reg1                                         \\\n",
       "sector                            food      mining manufactoring  electricity   \n",
       "stressor       compartment                                                      \n",
       "emission_type1 air          1848064.80  986448.090   23613787.00  28139100.00   \n",
       "emission_type2 water         139250.47   22343.295     763569.18    273981.55   \n",
       "\n",
       "region                                                                     \\\n",
       "sector                     construction      trade   transport      other   \n",
       "stressor       compartment                                                  \n",
       "emission_type1 air           2584141.80  4132656.3  21766987.0  7842090.6   \n",
       "emission_type2 water          317396.51  1254477.8   1012999.1  2449178.0   \n",
       "\n",
       "region                            reg2                ...         reg5  \\\n",
       "sector                            food      mining    ...    transport   \n",
       "stressor       compartment                            ...                \n",
       "emission_type1 air          1697937.30  347378.150    ...     42299319   \n",
       "emission_type2 water         204835.44   29463.944    ...      4199841   \n",
       "\n",
       "region                                        reg6                           \\\n",
       "sector                           other        food     mining manufactoring   \n",
       "stressor       compartment                                                    \n",
       "emission_type1 air          10773826.0  15777996.0  6420955.5     113172450   \n",
       "emission_type2 water         7191006.3   4826108.1  1865625.1      12700193   \n",
       "\n",
       "region                                                                     \\\n",
       "sector                     electricity construction     trade   transport   \n",
       "stressor       compartment                                                  \n",
       "emission_type1 air          56022534.0    4861838.5  18195621  47046542.0   \n",
       "emission_type2 water          753213.7    2699288.3  13892313   8765784.3   \n",
       "\n",
       "region                                \n",
       "sector                         other  \n",
       "stressor       compartment            \n",
       "emission_type1 air          21632868  \n",
       "emission_type2 water        16782553  \n",
       "\n",
       "[2 rows x 48 columns]"
      ]
     },
     "execution_count": 9,
     "metadata": {},
     "output_type": "execute_result"
    }
   ],
   "source": [
    "mrio.emissions.F"
   ]
  },
  {
   "cell_type": "code",
   "execution_count": 10,
   "metadata": {
    "collapsed": false
   },
   "outputs": [
    {
     "name": "stdout",
     "output_type": "stream",
     "text": [
      "[('emission_type1', 'air') ('emission_type2', 'water')]\n"
     ]
    }
   ],
   "source": [
    "print(mrio.emissions.get_rows())"
   ]
  },
  {
   "cell_type": "markdown",
   "metadata": {},
   "source": [
    "### Calculating the IO System"
   ]
  },
  {
   "cell_type": "markdown",
   "metadata": {},
   "source": [
    "A standard EE MRIO analysis consists of calculating the matrix of technological coefficients (A-matrix) and the Leontrief inverse (L). Subsequently, one starts to calculates the stressor / factors of productions coefficients, multipliers and finally footprints and impacts embodied in trade. pymrio aims to ease the whole process by providing one top level function for calculating all *missing* parts of the IO System. Thus:"
   ]
  },
  {
   "cell_type": "code",
   "execution_count": 11,
   "metadata": {
    "collapsed": false
   },
   "outputs": [],
   "source": [
    "mrio.calc_all()"
   ]
  },
  {
   "cell_type": "markdown",
   "metadata": {},
   "source": [
    "This top level functions checks first, which parts of the IO System and of the extensions are missing. The test system contains a transaction matrix Z, based on that the function calculates the industry output x, L as well as S, M and accounts (per product, region and capita) of all extensions. "
   ]
  },
  {
   "cell_type": "markdown",
   "metadata": {},
   "source": [
    "### Exploring the fully calculated system"
   ]
  },
  {
   "cell_type": "markdown",
   "metadata": {},
   "source": [
    "Lets take a look:"
   ]
  },
  {
   "cell_type": "code",
   "execution_count": 12,
   "metadata": {
    "collapsed": false
   },
   "outputs": [
    {
     "data": {
      "text/plain": [
       "'IO System with parameters: A, factor_inputs, name, price, L, version, year, emissions, Z, x, Y, population, unit'"
      ]
     },
     "execution_count": 12,
     "metadata": {},
     "output_type": "execute_result"
    }
   ],
   "source": [
    "str(mrio)"
   ]
  },
  {
   "cell_type": "code",
   "execution_count": 13,
   "metadata": {
    "collapsed": false
   },
   "outputs": [
    {
     "data": {
      "text/plain": [
       "'Extension Emissions with parameters: F, FY, D_fp_reg, M, D_exp_reg, D_imp_cap, D_fp_cap, unit, D_imp, D_terr_cap, name, S, D_fp, D_terr, D_exp_cap, D_imp_reg, D_terr_reg, D_exp'"
      ]
     },
     "execution_count": 13,
     "metadata": {},
     "output_type": "execute_result"
    }
   ],
   "source": [
    "str(mrio.emissions)"
   ]
  },
  {
   "cell_type": "code",
   "execution_count": 14,
   "metadata": {
    "collapsed": false
   },
   "outputs": [
    {
     "data": {
      "text/html": [
       "<div style=\"max-height:1000px;max-width:1500px;overflow:auto;\">\n",
       "<table border=\"1\" class=\"dataframe\">\n",
       "  <thead>\n",
       "    <tr style=\"text-align: right;\">\n",
       "      <th></th>\n",
       "      <th>region</th>\n",
       "      <th>reg1</th>\n",
       "      <th>reg2</th>\n",
       "      <th>reg3</th>\n",
       "      <th>reg4</th>\n",
       "      <th>reg5</th>\n",
       "      <th>reg6</th>\n",
       "    </tr>\n",
       "    <tr>\n",
       "      <th>stressor</th>\n",
       "      <th>compartment</th>\n",
       "      <th></th>\n",
       "      <th></th>\n",
       "      <th></th>\n",
       "      <th></th>\n",
       "      <th></th>\n",
       "      <th></th>\n",
       "    </tr>\n",
       "  </thead>\n",
       "  <tbody>\n",
       "    <tr>\n",
       "      <th>emission_type1</th>\n",
       "      <th>air</th>\n",
       "      <td> 0.266349</td>\n",
       "      <td> 0.031208</td>\n",
       "      <td> 0.421706</td>\n",
       "      <td> 1.538139</td>\n",
       "      <td> 0.905404</td>\n",
       "      <td> 0.969892</td>\n",
       "    </tr>\n",
       "    <tr>\n",
       "      <th>emission_type2</th>\n",
       "      <th>water</th>\n",
       "      <td> 0.110804</td>\n",
       "      <td> 0.019461</td>\n",
       "      <td> 0.457724</td>\n",
       "      <td> 0.593646</td>\n",
       "      <td> 0.278030</td>\n",
       "      <td> 0.341361</td>\n",
       "    </tr>\n",
       "  </tbody>\n",
       "</table>\n",
       "</div>"
      ],
      "text/plain": [
       "region                          reg1      reg2      reg3      reg4      reg5  \\\n",
       "stressor       compartment                                                     \n",
       "emission_type1 air          0.266349  0.031208  0.421706  1.538139  0.905404   \n",
       "emission_type2 water        0.110804  0.019461  0.457724  0.593646  0.278030   \n",
       "\n",
       "region                          reg6  \n",
       "stressor       compartment            \n",
       "emission_type1 air          0.969892  \n",
       "emission_type2 water        0.341361  "
      ]
     },
     "execution_count": 14,
     "metadata": {},
     "output_type": "execute_result"
    }
   ],
   "source": [
    "mrio.emissions.D_fp_cap"
   ]
  },
  {
   "cell_type": "markdown",
   "metadata": {},
   "source": [
    "But, of course, graphical output is much nicer"
   ]
  },
  {
   "cell_type": "code",
   "execution_count": 15,
   "metadata": {
    "collapsed": false
   },
   "outputs": [
    {
     "data": {
      "text/plain": [
       "<matplotlib.axes.AxesSubplot at 0xaeb0c18>"
      ]
     },
     "execution_count": 15,
     "metadata": {},
     "output_type": "execute_result"
    },
    {
     "data": {
      "image/png": "[encoded data removed]",
      "text/plain": [
       "<matplotlib.figure.Figure at 0xaeb0e10>"
      ]
     },
     "metadata": {},
     "output_type": "display_data"
    }
   ],
   "source": [
    "mrio.emissions.plot_account(['emission_type1','air'], per_capita=False)"
   ]
  },
  {
   "cell_type": "markdown",
   "metadata": {},
   "source": [
    "### Aggregation"
   ]
  },
  {
   "cell_type": "markdown",
   "metadata": {},
   "source": [
    "One of the standard task when handling MRIO systems is to aggregate sectors and/or countries to a differnet classification. pymrio provides some predefined aggregation levels for the test system (as well as for EXIOBASE 2)."
   ]
  },
  {
   "cell_type": "markdown",
   "metadata": {},
   "source": [
    "Lets assume, that 'reg1' to 'reg3' of the test system form a region called 'EU'. We can than easily aggregate the test system by:"
   ]
  },
  {
   "cell_type": "code",
   "execution_count": 16,
   "metadata": {
    "collapsed": false
   },
   "outputs": [],
   "source": [
    "reg_vector = mr.build_agg_vec(['EU','orig_regions'], path='test')"
   ]
  },
  {
   "cell_type": "code",
   "execution_count": 17,
   "metadata": {
    "collapsed": false
   },
   "outputs": [],
   "source": [
    "mrio_eu = mrio.aggregate(region_agg=reg_vector, inplace=False)"
   ]
  },
  {
   "cell_type": "code",
   "execution_count": 18,
   "metadata": {
    "collapsed": false
   },
   "outputs": [
    {
     "data": {
      "text/plain": [
       "array(['EU', 'reg4', 'reg5', 'reg6'], dtype=object)"
      ]
     },
     "execution_count": 18,
     "metadata": {},
     "output_type": "execute_result"
    }
   ],
   "source": [
    "mrio_EU.get_regions()"
   ]
  },
  {
   "cell_type": "code",
   "execution_count": 19,
   "metadata": {
    "collapsed": false
   },
   "outputs": [],
   "source": [
    "mrio_EU.calc_all()"
   ]
  },
  {
   "cell_type": "code",
   "execution_count": 20,
   "metadata": {
    "collapsed": false
   },
   "outputs": [
    {
     "data": {
      "text/html": [
       "<div style=\"max-height:1000px;max-width:1500px;overflow:auto;\">\n",
       "<table border=\"1\" class=\"dataframe\">\n",
       "  <thead>\n",
       "    <tr style=\"text-align: right;\">\n",
       "      <th></th>\n",
       "      <th>region</th>\n",
       "      <th>EU</th>\n",
       "      <th>reg4</th>\n",
       "      <th>reg5</th>\n",
       "      <th>reg6</th>\n",
       "    </tr>\n",
       "    <tr>\n",
       "      <th>stressor</th>\n",
       "      <th>compartment</th>\n",
       "      <th></th>\n",
       "      <th></th>\n",
       "      <th></th>\n",
       "      <th></th>\n",
       "    </tr>\n",
       "  </thead>\n",
       "  <tbody>\n",
       "    <tr>\n",
       "      <th>emission_type1</th>\n",
       "      <th>air</th>\n",
       "      <td> 7.418425e+08</td>\n",
       "      <td> 4.117695e+08</td>\n",
       "      <td> 4.117692e+08</td>\n",
       "      <td> 7.905917e+08</td>\n",
       "    </tr>\n",
       "    <tr>\n",
       "      <th>emission_type2</th>\n",
       "      <th>water</th>\n",
       "      <td> 6.249320e+08</td>\n",
       "      <td> 1.300666e+08</td>\n",
       "      <td> 1.269026e+08</td>\n",
       "      <td> 2.420751e+08</td>\n",
       "    </tr>\n",
       "  </tbody>\n",
       "</table>\n",
       "</div>"
      ],
      "text/plain": [
       "region                                EU          reg4          reg5  \\\n",
       "stressor       compartment                                             \n",
       "emission_type1 air          7.418425e+08  4.117695e+08  4.117692e+08   \n",
       "emission_type2 water        6.249320e+08  1.300666e+08  1.269026e+08   \n",
       "\n",
       "region                              reg6  \n",
       "stressor       compartment                \n",
       "emission_type1 air          7.905917e+08  \n",
       "emission_type2 water        2.420751e+08  "
      ]
     },
     "execution_count": 20,
     "metadata": {},
     "output_type": "execute_result"
    }
   ],
   "source": [
    "mrio_EU.emissions.D_fp_reg"
   ]
  },
  {
   "cell_type": "code",
   "execution_count": 21,
   "metadata": {
    "collapsed": false
   },
   "outputs": [
    {
     "data": {
      "text/plain": [
       "<matplotlib.axes.AxesSubplot at 0xcf461d0>"
      ]
     },
     "execution_count": 21,
     "metadata": {},
     "output_type": "execute_result"
    },
    {
     "data": {
      "image/png": "[encoded data removed]",
      "text/plain": [
       "<matplotlib.figure.Figure at 0xae92f28>"
      ]
     },
     "metadata": {},
     "output_type": "display_data"
    }
   ],
   "source": [
    "mrio_EU.factor_inputs.plot_account(['Value Added'])"
   ]
  },
  {
   "cell_type": "markdown",
   "metadata": {},
   "source": [
    "The same principle can be used to aggregate sectors."
   ]
  },
  {
   "cell_type": "markdown",
   "metadata": {},
   "source": [
    "### Saving"
   ]
  },
  {
   "cell_type": "markdown",
   "metadata": {},
   "source": [
    "Currently, the full MRIO system can be saved in txt or the python specific binary format ('pickle'). Both formats work with the same API interface:"
   ]
  },
  {
   "cell_type": "code",
   "execution_count": 22,
   "metadata": {
    "collapsed": false
   },
   "outputs": [],
   "source": [
    "mrio.save_all(r'C:\\Temp\\full_mrio_txt', table_format='txt')"
   ]
  },
  {
   "cell_type": "code",
   "execution_count": 23,
   "metadata": {
    "collapsed": false
   },
   "outputs": [],
   "source": [
    "mrio.save_all(r'C:\\Temp\\full_mrio_pkl', table_format='pickle')"
   ]
  },
  {
   "cell_type": "markdown",
   "metadata": {},
   "source": [
    "Loading the whole system works accodingly"
   ]
  },
  {
   "cell_type": "code",
   "execution_count": 24,
   "metadata": {
    "collapsed": false
   },
   "outputs": [],
   "source": [
    "mrio2 = mr.load(r'C:\\Temp\\full_mrio_pkl', recursive = True)"
   ]
  },
  {
   "cell_type": "markdown",
   "metadata": {},
   "source": [
    "It is also possible, to save and load only individual parts of the MRIO system (e.g. only one type of extensions)."
   ]
  },
  {
   "cell_type": "markdown",
   "metadata": {},
   "source": [
    "Btw: loading the whole EXIOBASE 2 system from the binary format takes less than 1 sec."
   ]
  },
  {
   "cell_type": "markdown",
   "metadata": {},
   "source": [
    "### Output and report"
   ]
  },
  {
   "cell_type": "markdown",
   "metadata": {},
   "source": [
    "All tables in pymrio are based on pandas DataFrames. Therefore, all pandas function can be used to export into various formats e.g:"
   ]
  },
  {
   "cell_type": "code",
   "execution_count": 25,
   "metadata": {
    "collapsed": false
   },
   "outputs": [],
   "source": [
    "mrio.emissions.M.to_excel(r'C:\\Temp\\multiplier.xlsx')"
   ]
  },
  {
   "cell_type": "code",
   "execution_count": 26,
   "metadata": {
    "collapsed": false
   },
   "outputs": [],
   "source": [
    "mrio.emissions.D_fp.to_html(r'C:\\Temp\\footprints.html')"
   ]
  },
  {
   "cell_type": "markdown",
   "metadata": {},
   "source": [
    "Of course, it would be nice to have something like an automatically generated report. Lets see if we can do that:"
   ]
  },
  {
   "cell_type": "code",
   "execution_count": 27,
   "metadata": {
    "collapsed": false
   },
   "outputs": [],
   "source": [
    "mrio.report_accounts(r'C:\\Temp\\report', per_region=True, per_capita=True, format='html')"
   ]
  }
 ],
 "metadata": {
  "kernelspec": {
   "display_name": "Python 3",
   "language": "python",
   "name": "python3"
  },
  "language_info": {
   "codemirror_mode": {
    "name": "ipython",
    "version": 3
   },
   "file_extension": ".py",
   "mimetype": "text/x-python",
   "name": "python",
   "nbconvert_exporter": "python",
   "pygments_lexer": "ipython3",
   "version": "3.5.0"
  }
 },
 "nbformat": 4,
 "nbformat_minor": 0
}
