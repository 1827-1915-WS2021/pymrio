{
 "metadata": {
  "name": "",
  "signature": "sha256:f685806514a3d1278b01ed71420494b80f2df6f1452065dd58036afb5d4f06e8"
 },
 "nbformat": 3,
 "nbformat_minor": 0,
 "worksheets": [
  {
   "cells": [
    {
     "cell_type": "heading",
     "level": 1,
     "metadata": {},
     "source": [
      "pymrio - use without parser tutorial"
     ]
    },
    {
     "cell_type": "markdown",
     "metadata": {},
     "source": [
      "pymrio provides parsing function to load exiting mrio databases. However, it is also possible to assign data directly to the attributes of an IOSystem instance.\n",
      "This tutorial exemplify this functionality. The tables used here are taken from *Miller and Blair (2009)*: Miller, Ronald E, and Peter D Blair. Input-Output Analysis: Foundations and Extensions. Cambridge (England); New York: Cambridge University Press, 2009. ISBN: 978-0-521-51713-3\n"
     ]
    },
    {
     "cell_type": "heading",
     "level": 2,
     "metadata": {},
     "source": [
      "Preperation"
     ]
    },
    {
     "cell_type": "heading",
     "level": 3,
     "metadata": {},
     "source": [
      "Import pymrio"
     ]
    },
    {
     "cell_type": "markdown",
     "metadata": {},
     "source": [
      "First import the pymrio module:"
     ]
    },
    {
     "cell_type": "code",
     "collapsed": false,
     "input": [
      "import sys\n",
      "_pymrio_path = r'D:\\KST\\proj\\pymrio\\pymrio'  \n",
      "if not _pymrio_path in sys.path:\n",
      "    sys.path.append(_pymrio_path)\n",
      "del _pymrio_path\n",
      "import pymrio as mr"
     ],
     "language": "python",
     "metadata": {},
     "outputs": [],
     "prompt_number": 1
    },
    {
     "cell_type": "heading",
     "level": 3,
     "metadata": {},
     "source": [
      "Get external IO table"
     ]
    },
    {
     "cell_type": "markdown",
     "metadata": {},
     "source": [
      "For this example we use the IO table given in *Miller and Blair (2009)*: Table 2.3 (on page 22 in the 2009 edition)."
     ]
    },
    {
     "cell_type": "markdown",
     "metadata": {},
     "source": [
      "This table contains an interindustry trade flow matrix, final demand columns for household demand and exports and a value added row. The latter we consider as an extensions (factor inputs). To assign these values to the IOSystem attributes, the tables must be pandas\n",
      "<a href=\"http://pandas.pydata.org/pandas-docs/dev/dsintro.html#dataframe\">DataFrames</a> with <a href=\"http://pandas.pydata.org/pandas-docs/dev/indexing.html#hierarchical-indexing-multiindex\">multiindex</a> for columns and index."
     ]
    },
    {
     "cell_type": "markdown",
     "metadata": {},
     "source": [
      "First we set up the Z matrix b defining the index of rows and columns. The example IO tables contains only domestic tables, but since pymrio was designed with multi regions IO tables in mind, also a region index is needed."
     ]
    },
    {
     "cell_type": "code",
     "collapsed": false,
     "input": [
      "_sectors = ['sector1', 'sector2']\n",
      "_regions = ['reg1'] * len(_sectors)\n",
      "_Z_multiindex = pd.MultiIndex.from_arrays(\n",
      "        [_regions, _sectors], \n",
      "        names=['region', 'sector'])"
     ],
     "language": "python",
     "metadata": {},
     "outputs": [],
     "prompt_number": 2
    },
    {
     "cell_type": "markdown",
     "metadata": {},
     "source": [
      "Next we setup the total Z matrix. Here we just put in the name the values manually. However, pandas provides several possibility to ease the <a href=\"http://pandas.pydata.org/pandas-docs/stable/io.html\">data input</a>."
     ]
    },
    {
     "cell_type": "code",
     "collapsed": false,
     "input": [
      "Z = pd.DataFrame(\n",
      "    data = np.array([\n",
      "            [150,500],\n",
      "            [200,100]]),\n",
      "    index = _Z_multiindex,\n",
      "    columns = _Z_multiindex\n",
      "    )"
     ],
     "language": "python",
     "metadata": {},
     "outputs": [],
     "prompt_number": 3
    },
    {
     "cell_type": "code",
     "collapsed": false,
     "input": [
      "Z"
     ],
     "language": "python",
     "metadata": {},
     "outputs": [
      {
       "html": [
        "<div style=\"max-height:1000px;max-width:1500px;overflow:auto;\">\n",
        "<table border=\"1\" class=\"dataframe\">\n",
        "  <thead>\n",
        "    <tr>\n",
        "      <th></th>\n",
        "      <th>region</th>\n",
        "      <th colspan=\"2\" halign=\"left\">reg1</th>\n",
        "    </tr>\n",
        "    <tr>\n",
        "      <th></th>\n",
        "      <th>sector</th>\n",
        "      <th>sector1</th>\n",
        "      <th>sector2</th>\n",
        "    </tr>\n",
        "    <tr>\n",
        "      <th>region</th>\n",
        "      <th>sector</th>\n",
        "      <th></th>\n",
        "      <th></th>\n",
        "    </tr>\n",
        "  </thead>\n",
        "  <tbody>\n",
        "    <tr>\n",
        "      <th rowspan=\"2\" valign=\"top\">reg1</th>\n",
        "      <th>sector1</th>\n",
        "      <td> 150</td>\n",
        "      <td> 500</td>\n",
        "    </tr>\n",
        "    <tr>\n",
        "      <th>sector2</th>\n",
        "      <td> 200</td>\n",
        "      <td> 100</td>\n",
        "    </tr>\n",
        "  </tbody>\n",
        "</table>\n",
        "<p>2 rows \u00d7 2 columns</p>\n",
        "</div>"
       ],
       "metadata": {},
       "output_type": "pyout",
       "prompt_number": 4,
       "text": [
        "region             reg1         \n",
        "sector          sector1  sector2\n",
        "region sector                   \n",
        "reg1   sector1      150      500\n",
        "       sector2      200      100\n",
        "\n",
        "[2 rows x 2 columns]"
       ]
      }
     ],
     "prompt_number": 4
    },
    {
     "cell_type": "markdown",
     "metadata": {},
     "source": [
      "Final demand is treated in the same way:"
     ]
    },
    {
     "cell_type": "code",
     "collapsed": false,
     "input": [
      "_fd_index = pd.MultiIndex.from_arrays(\n",
      "        [['reg1'], ['final_demand']], \n",
      "        names = ['region', 'category'])"
     ],
     "language": "python",
     "metadata": {},
     "outputs": [],
     "prompt_number": 5
    },
    {
     "cell_type": "code",
     "collapsed": false,
     "input": [
      "Y = pd.DataFrame(\n",
      "    data=np.array([[350], [1700]]),\n",
      "    index = _Z_multiindex,\n",
      "    columns = _fd_index)\n"
     ],
     "language": "python",
     "metadata": {},
     "outputs": [],
     "prompt_number": 6
    },
    {
     "cell_type": "code",
     "collapsed": false,
     "input": [
      "Y"
     ],
     "language": "python",
     "metadata": {},
     "outputs": [
      {
       "html": [
        "<div style=\"max-height:1000px;max-width:1500px;overflow:auto;\">\n",
        "<table border=\"1\" class=\"dataframe\">\n",
        "  <thead>\n",
        "    <tr>\n",
        "      <th></th>\n",
        "      <th>region</th>\n",
        "      <th>reg1</th>\n",
        "    </tr>\n",
        "    <tr>\n",
        "      <th></th>\n",
        "      <th>category</th>\n",
        "      <th>final_demand</th>\n",
        "    </tr>\n",
        "    <tr>\n",
        "      <th>region</th>\n",
        "      <th>sector</th>\n",
        "      <th></th>\n",
        "    </tr>\n",
        "  </thead>\n",
        "  <tbody>\n",
        "    <tr>\n",
        "      <th rowspan=\"2\" valign=\"top\">reg1</th>\n",
        "      <th>sector1</th>\n",
        "      <td>  350</td>\n",
        "    </tr>\n",
        "    <tr>\n",
        "      <th>sector2</th>\n",
        "      <td> 1700</td>\n",
        "    </tr>\n",
        "  </tbody>\n",
        "</table>\n",
        "<p>2 rows \u00d7 1 columns</p>\n",
        "</div>"
       ],
       "metadata": {},
       "output_type": "pyout",
       "prompt_number": 7,
       "text": [
        "region                  reg1\n",
        "category        final_demand\n",
        "region sector               \n",
        "reg1   sector1           350\n",
        "       sector2          1700\n",
        "\n",
        "[2 rows x 1 columns]"
       ]
      }
     ],
     "prompt_number": 7
    },
    {
     "cell_type": "markdown",
     "metadata": {},
     "source": [
      "Factor inputs are given as 'Payment sectors' in the table:"
     ]
    },
    {
     "cell_type": "code",
     "collapsed": false,
     "input": [
      "F = pd.DataFrame(\n",
      "    data = np.array([[650, 1400]]),\n",
      "    index = ['Payments_sectors'],\n",
      "    columns = _Z_multiindex)\n"
     ],
     "language": "python",
     "metadata": {},
     "outputs": [],
     "prompt_number": 8
    },
    {
     "cell_type": "code",
     "collapsed": false,
     "input": [
      "F"
     ],
     "language": "python",
     "metadata": {},
     "outputs": [
      {
       "html": [
        "<div style=\"max-height:1000px;max-width:1500px;overflow:auto;\">\n",
        "<table border=\"1\" class=\"dataframe\">\n",
        "  <thead>\n",
        "    <tr>\n",
        "      <th>region</th>\n",
        "      <th colspan=\"2\" halign=\"left\">reg1</th>\n",
        "    </tr>\n",
        "    <tr>\n",
        "      <th>sector</th>\n",
        "      <th>sector1</th>\n",
        "      <th>sector2</th>\n",
        "    </tr>\n",
        "  </thead>\n",
        "  <tbody>\n",
        "    <tr>\n",
        "      <th>Payments_sectors</th>\n",
        "      <td> 650</td>\n",
        "      <td> 1400</td>\n",
        "    </tr>\n",
        "  </tbody>\n",
        "</table>\n",
        "<p>1 rows \u00d7 2 columns</p>\n",
        "</div>"
       ],
       "metadata": {},
       "output_type": "pyout",
       "prompt_number": 9,
       "text": [
        "region               reg1         \n",
        "sector            sector1  sector2\n",
        "Payments_sectors      650     1400\n",
        "\n",
        "[1 rows x 2 columns]"
       ]
      }
     ],
     "prompt_number": 9
    },
    {
     "cell_type": "heading",
     "level": 2,
     "metadata": {},
     "source": [
      "Include tables in the IOSystem object"
     ]
    },
    {
     "cell_type": "markdown",
     "metadata": {},
     "source": [
      "In the next step, an empty instance of an IOSYstem has to be set up."
     ]
    },
    {
     "cell_type": "code",
     "collapsed": false,
     "input": [
      "io = mr.IOSystem()"
     ],
     "language": "python",
     "metadata": {},
     "outputs": [],
     "prompt_number": 10
    },
    {
     "cell_type": "markdown",
     "metadata": {},
     "source": [
      "Metadata can be assigned, but that is completely optional:"
     ]
    },
    {
     "cell_type": "code",
     "collapsed": false,
     "input": [
      "io.name = 'miller 2009 example table'"
     ],
     "language": "python",
     "metadata": {},
     "outputs": [],
     "prompt_number": 11
    },
    {
     "cell_type": "markdown",
     "metadata": {},
     "source": [
      "Now we can add the tables to the IOSystem instance:"
     ]
    },
    {
     "cell_type": "code",
     "collapsed": true,
     "input": [
      "io.Z = Z\n",
      "io.Y = Y"
     ],
     "language": "python",
     "metadata": {},
     "outputs": [],
     "prompt_number": 12
    },
    {
     "cell_type": "markdown",
     "metadata": {},
     "source": [
      "Extension are defined as objects within the IOSystem. The Extension instance can be instanced independently (the parameter 'name' is required):"
     ]
    },
    {
     "cell_type": "code",
     "collapsed": false,
     "input": [
      "factor_input = mr.Extension(name = 'Factor Input', F=F)"
     ],
     "language": "python",
     "metadata": {},
     "outputs": [],
     "prompt_number": 13
    },
    {
     "cell_type": "code",
     "collapsed": false,
     "input": [
      "io.factor_input = factor_input"
     ],
     "language": "python",
     "metadata": {},
     "outputs": [],
     "prompt_number": 14
    },
    {
     "cell_type": "markdown",
     "metadata": {},
     "source": [
      "For consistency and plotting we can add a DataFrame containg the units per row:"
     ]
    },
    {
     "cell_type": "code",
     "collapsed": false,
     "input": [
      "io.factor_input.unit = pd.DataFrame(data = ['USD'], index = F.index, columns = ['unit'])"
     ],
     "language": "python",
     "metadata": {},
     "outputs": [],
     "prompt_number": 15
    },
    {
     "cell_type": "markdown",
     "metadata": {},
     "source": [
      "We can check whats in the system:"
     ]
    },
    {
     "cell_type": "code",
     "collapsed": false,
     "input": [
      "str(io)"
     ],
     "language": "python",
     "metadata": {},
     "outputs": [
      {
       "metadata": {},
       "output_type": "pyout",
       "prompt_number": 16,
       "text": [
        "'IO System with parameters: factor_input, Z, Y, name'"
       ]
      }
     ],
     "prompt_number": 16
    },
    {
     "cell_type": "markdown",
     "metadata": {},
     "source": [
      "At this point we have everything to calculate the full IO system."
     ]
    },
    {
     "cell_type": "heading",
     "level": 2,
     "metadata": {},
     "source": [
      "Calculate the missing parts"
     ]
    },
    {
     "cell_type": "code",
     "collapsed": false,
     "input": [
      "io.calc_all()"
     ],
     "language": "python",
     "metadata": {},
     "outputs": [],
     "prompt_number": 17
    },
    {
     "cell_type": "markdown",
     "metadata": {},
     "source": [
      "This gives, among others, the A and L matrix which we can compare with the tables given in *Miller and Blair (2009)* (Table 2.4 and L given on the next page afterwards):"
     ]
    },
    {
     "cell_type": "code",
     "collapsed": false,
     "input": [
      "io.A"
     ],
     "language": "python",
     "metadata": {},
     "outputs": [
      {
       "html": [
        "<div style=\"max-height:1000px;max-width:1500px;overflow:auto;\">\n",
        "<table border=\"1\" class=\"dataframe\">\n",
        "  <thead>\n",
        "    <tr>\n",
        "      <th></th>\n",
        "      <th>region</th>\n",
        "      <th colspan=\"2\" halign=\"left\">reg1</th>\n",
        "    </tr>\n",
        "    <tr>\n",
        "      <th></th>\n",
        "      <th>sector</th>\n",
        "      <th>sector1</th>\n",
        "      <th>sector2</th>\n",
        "    </tr>\n",
        "    <tr>\n",
        "      <th>region</th>\n",
        "      <th>sector</th>\n",
        "      <th></th>\n",
        "      <th></th>\n",
        "    </tr>\n",
        "  </thead>\n",
        "  <tbody>\n",
        "    <tr>\n",
        "      <th rowspan=\"2\" valign=\"top\">reg1</th>\n",
        "      <th>sector1</th>\n",
        "      <td> 0.15</td>\n",
        "      <td> 0.25</td>\n",
        "    </tr>\n",
        "    <tr>\n",
        "      <th>sector2</th>\n",
        "      <td> 0.20</td>\n",
        "      <td> 0.05</td>\n",
        "    </tr>\n",
        "  </tbody>\n",
        "</table>\n",
        "<p>2 rows \u00d7 2 columns</p>\n",
        "</div>"
       ],
       "metadata": {},
       "output_type": "pyout",
       "prompt_number": 18,
       "text": [
        "region             reg1         \n",
        "sector          sector1  sector2\n",
        "region sector                   \n",
        "reg1   sector1     0.15     0.25\n",
        "       sector2     0.20     0.05\n",
        "\n",
        "[2 rows x 2 columns]"
       ]
      }
     ],
     "prompt_number": 18
    },
    {
     "cell_type": "code",
     "collapsed": false,
     "input": [
      "io.L"
     ],
     "language": "python",
     "metadata": {},
     "outputs": [
      {
       "html": [
        "<div style=\"max-height:1000px;max-width:1500px;overflow:auto;\">\n",
        "<table border=\"1\" class=\"dataframe\">\n",
        "  <thead>\n",
        "    <tr>\n",
        "      <th></th>\n",
        "      <th>region</th>\n",
        "      <th colspan=\"2\" halign=\"left\">reg1</th>\n",
        "    </tr>\n",
        "    <tr>\n",
        "      <th></th>\n",
        "      <th>sector</th>\n",
        "      <th>sector1</th>\n",
        "      <th>sector2</th>\n",
        "    </tr>\n",
        "    <tr>\n",
        "      <th>region</th>\n",
        "      <th>sector</th>\n",
        "      <th></th>\n",
        "      <th></th>\n",
        "    </tr>\n",
        "  </thead>\n",
        "  <tbody>\n",
        "    <tr>\n",
        "      <th rowspan=\"2\" valign=\"top\">reg1</th>\n",
        "      <th>sector1</th>\n",
        "      <td> 1.254125</td>\n",
        "      <td> 0.330033</td>\n",
        "    </tr>\n",
        "    <tr>\n",
        "      <th>sector2</th>\n",
        "      <td> 0.264026</td>\n",
        "      <td> 1.122112</td>\n",
        "    </tr>\n",
        "  </tbody>\n",
        "</table>\n",
        "<p>2 rows \u00d7 2 columns</p>\n",
        "</div>"
       ],
       "metadata": {},
       "output_type": "pyout",
       "prompt_number": 19,
       "text": [
        "region              reg1          \n",
        "sector           sector1   sector2\n",
        "region sector                     \n",
        "reg1   sector1  1.254125  0.330033\n",
        "       sector2  0.264026  1.122112\n",
        "\n",
        "[2 rows x 2 columns]"
       ]
      }
     ],
     "prompt_number": 19
    },
    {
     "cell_type": "heading",
     "level": 2,
     "metadata": {},
     "source": [
      "Update to system for a new final demand"
     ]
    },
    {
     "cell_type": "markdown",
     "metadata": {},
     "source": [
      "The example in *Miller and Blair (2009)* goes on with using the L matrix to calculate the new industry output x for a changing finald demand Y. This step can easly reproduced with the pymrio module.\n",
      "\n",
      "To do so we first have to set up the new final demand:"
     ]
    },
    {
     "cell_type": "code",
     "collapsed": false,
     "input": [
      "Ynew = Y.copy()\n",
      "Ynew[('reg1','final_demand')] = np.array([[600],\n",
      "                                          [1500]])"
     ],
     "language": "python",
     "metadata": {},
     "outputs": [],
     "prompt_number": 20
    },
    {
     "cell_type": "markdown",
     "metadata": {},
     "source": [
      "We copy the original IOSystem:"
     ]
    },
    {
     "cell_type": "code",
     "collapsed": false,
     "input": [
      "io_new_fd = io.copy()"
     ],
     "language": "python",
     "metadata": {},
     "outputs": [],
     "prompt_number": 21
    },
    {
     "cell_type": "markdown",
     "metadata": {},
     "source": [
      "To calculate for the new final demand we have to remove everything from the system except for the coefficients (A,L,S,M)"
     ]
    },
    {
     "cell_type": "code",
     "collapsed": false,
     "input": [
      "io_new_fd.reset_all_to_coefficients()"
     ],
     "language": "python",
     "metadata": {},
     "outputs": [],
     "prompt_number": 22
    },
    {
     "cell_type": "markdown",
     "metadata": {},
     "source": [
      "Now we can assign the new final demand and recalculate the system:"
     ]
    },
    {
     "cell_type": "code",
     "collapsed": false,
     "input": [
      "io_new_fd.Y = Ynew"
     ],
     "language": "python",
     "metadata": {},
     "outputs": [],
     "prompt_number": 23
    },
    {
     "cell_type": "code",
     "collapsed": false,
     "input": [
      "io_new_fd.calc_all()"
     ],
     "language": "python",
     "metadata": {},
     "outputs": [],
     "prompt_number": 24
    },
    {
     "cell_type": "markdown",
     "metadata": {},
     "source": [
      "The new x equalls the xnew values given in *Miller and Blair (2009)* at formula 2.13:"
     ]
    },
    {
     "cell_type": "code",
     "collapsed": false,
     "input": [
      "io_new_fd.x"
     ],
     "language": "python",
     "metadata": {},
     "outputs": [
      {
       "html": [
        "<div style=\"max-height:1000px;max-width:1500px;overflow:auto;\">\n",
        "<table border=\"1\" class=\"dataframe\">\n",
        "  <thead>\n",
        "    <tr style=\"text-align: right;\">\n",
        "      <th></th>\n",
        "      <th></th>\n",
        "      <th>indout</th>\n",
        "    </tr>\n",
        "    <tr>\n",
        "      <th>region</th>\n",
        "      <th>sector</th>\n",
        "      <th></th>\n",
        "    </tr>\n",
        "  </thead>\n",
        "  <tbody>\n",
        "    <tr>\n",
        "      <th rowspan=\"2\" valign=\"top\">reg1</th>\n",
        "      <th>sector1</th>\n",
        "      <td> 1247.524752</td>\n",
        "    </tr>\n",
        "    <tr>\n",
        "      <th>sector2</th>\n",
        "      <td> 1841.584158</td>\n",
        "    </tr>\n",
        "  </tbody>\n",
        "</table>\n",
        "<p>2 rows \u00d7 1 columns</p>\n",
        "</div>"
       ],
       "metadata": {},
       "output_type": "pyout",
       "prompt_number": 25,
       "text": [
        "                     indout\n",
        "region sector              \n",
        "reg1   sector1  1247.524752\n",
        "       sector2  1841.584158\n",
        "\n",
        "[2 rows x 1 columns]"
       ]
      }
     ],
     "prompt_number": 25
    }
   ],
   "metadata": {}
  }
 ]
}