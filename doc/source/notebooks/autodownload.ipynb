{
 "cells": [
  {
   "cell_type": "markdown",
   "metadata": {},
   "source": [
    "# Downloading MRIO databases"
   ]
  },
  {
   "cell_type": "markdown",
   "metadata": {},
   "source": [
    "pymrio includes functions to automatically download some available global EE MRIO databases. \n",
    "This is currently implemented for WIOD and Eora26."
   ]
  },
  {
   "cell_type": "code",
   "execution_count": 1,
   "metadata": {},
   "outputs": [],
   "source": [
    "import pymrio"
   ]
  },
  {
   "cell_type": "code",
   "execution_count": 2,
   "metadata": {},
   "outputs": [
    {
     "name": "stdout",
     "output_type": "stream",
     "text": [
      "EXIOBASE 2 requires registration prior to download. Please register at www.exiobase.eu and download the EXIOBASE MRIO files >MrIOT_IxI_fpa_coefficient_version2.2.2.zip<_and/or_>MrIOT_PxP_ita_coefficient_version2.2.2.zip<_manually (tab Data Download - EXIOBASE 2).\n"
     ]
    }
   ],
   "source": [
    "pymrio.download_exiobase2()"
   ]
  },
  {
   "cell_type": "code",
   "execution_count": null,
   "metadata": {},
   "outputs": [],
   "source": []
  }
 ],
 "metadata": {
  "kernelspec": {
   "display_name": "Python [conda root]",
   "language": "python",
   "name": "conda-root-py"
  },
  "language_info": {
   "codemirror_mode": {
    "name": "ipython",
    "version": 3
   },
   "file_extension": ".py",
   "mimetype": "text/x-python",
   "name": "python",
   "nbconvert_exporter": "python",
   "pygments_lexer": "ipython3",
   "version": "3.5.3"
  }
 },
 "nbformat": 4,
 "nbformat_minor": 2
}
