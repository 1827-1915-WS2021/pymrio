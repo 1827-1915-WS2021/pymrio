{
 "cells": [
  {
   "cell_type": "markdown",
   "metadata": {},
   "source": [
    "# Parsing the EXIOBASE EE MRIO database"
   ]
  },
  {
   "cell_type": "markdown",
   "metadata": {},
   "source": [
    "## Getting EXIOBASE"
   ]
  },
  {
   "cell_type": "markdown",
   "metadata": {},
   "source": [
    "EXIOBASE 1 (developed in the fp6 project EXIOPOL) and EXIOBASE 2 (outcome of the fp7 project CREEA) are available on http://www.exiobase.eu\n",
    "\n",
    "You need to register before you can download the full dataset."
   ]
  },
  {
   "cell_type": "markdown",
   "metadata": {},
   "source": [
    " ### EXIOBASE 1"
   ]
  },
  {
   "cell_type": "markdown",
   "metadata": {},
   "source": [
    "To download EXIOBASE 1 for the use with pymrio, navigate to https://www.exiobase.eu - tab \"Data Download\" - \"EXIOBASE 1 - full dataset\" and download either \n",
    "\n",
    "- [pxp_ita_44_regions_coeff_txt](https://www.exiobase.eu/index.php/data-download/exiobase1-year-2000-full-data-set/49-pxp-ita-44-regions-coeff-txt/file) for the product by product (pxp) MRIO system or\n",
    "\n",
    "- [ixi_fpa_44_regions_coeff_txt](https://www.exiobase.eu/index.php/data-download/exiobase1-year-2000-full-data-set/25-ixi-fpa-44-regions-coeff-txt/file) for the industry by industry (ixi) MRIO system or\n",
    "\n",
    "- [pxp_ita_44_regions_coeff_src_txt](https://www.exiobase.eu/index.php/data-download/exiobase1-year-2000-full-data-set/52-pxp-ita-44-regions-coeff-src-txt/file) for the product by product (pxp) MRIO system with emission data per source or\n",
    "\n",
    "- [ixi_fpa_44_regions_coeff_src_txt](https://www.exiobase.eu/index.php/data-download/exiobase1-year-2000-full-data-set/28-ixi-fpa-44-regions-coeff-src-txt/file) for the industry by industry (ixi) wMRIO system with emission data per source.\n",
    "\n",
    "The links above directly lead to the required file(s), but remember that you need to be logged in to access them."
   ]
  },
  {
   "cell_type": "markdown",
   "metadata": {},
   "source": [
    "The pymrio parser works with the compressed (zip) files as well as the unpacked files. If you want to unpack the files, make sure that you store them in different folders since they unpack in the current directory."
   ]
  },
  {
   "cell_type": "markdown",
   "metadata": {},
   "source": [
    "### EXIOBASE 2"
   ]
  },
  {
   "cell_type": "markdown",
   "metadata": {},
   "source": [
    "EXIOBASE 2 is available at ttp://www.exiobase.eu - tab \"Data Download\" - \"EXIOBASE 2 - full dataset\". You can download either \n",
    "\n",
    "\n",
    "- [MrIOT PxP ita coefficient version2 2 2](http://www.exiobase.eu/index.php/data-download/exiobase2-year-2007-full-data-set/79-mriot-pxp-ita-coefficient-version2-2-2/file) for the product by product (pxp) MRIO system or\n",
    "\n",
    "- [MrIOT IxI fpa coefficient version2 2 2](http://www.exiobase.eu/index.php/data-download/exiobase2-year-2007-full-data-set/78-mriot-ixi-fpa-coefficient-version2-2-2/file) for the industry by industry (ixi) MRIO system.\n",
    "\n",
    "The links above directly lead to the required file(s), but remember that you need to be logged in to access them.\n",
    "\n",
    "The pymrio parser works with the compressed (zip) files as well as the unpacked files. You can unpack the files together in one directory (unpacking creates a separate folder for each EXIOBASE 2 version). The unpacking of the PxP version also creates a folder \"__MACOSX\" - you can delete this folder."
   ]
  },
  {
   "cell_type": "markdown",
   "metadata": {},
   "source": [
    "### EXIOBASE 3"
   ]
  },
  {
   "cell_type": "markdown",
   "metadata": {},
   "source": [
    "EXIOBASE 3 is currently not publicly available. \n",
    "However, pymrio already includes a parser for the preliminary version. \n",
    "If you have access to this version, you can download the files as provided and use the preliminary pymrio exiobase3 parser. Manually adjustment might be needed depending on the available sub-version of EXIOBASE 3."
   ]
  },
  {
   "cell_type": "markdown",
   "metadata": {},
   "source": [
    "## Parsing"
   ]
  },
  {
   "cell_type": "code",
   "execution_count": 1,
   "metadata": {},
   "outputs": [],
   "source": [
    "import pymrio"
   ]
  },
  {
   "cell_type": "markdown",
   "metadata": {},
   "source": [
    "For each publically available version of EXIOBASE pymrio provides a specific parser. \n",
    "To parse EXIOBASE 1 use:"
   ]
  },
  {
   "cell_type": "code",
   "execution_count": 6,
   "metadata": {},
   "outputs": [],
   "source": [
    "exio1 = pymrio.parse_exiobase1(path='/tmp/exio1_pxp_download')"
   ]
  },
  {
   "cell_type": "markdown",
   "metadata": {},
   "source": [
    "The parameter 'path' needs to point to either folder with the extracted EXIOBASE1 files for the downloaded zip file."
   ]
  },
  {
   "cell_type": "markdown",
   "metadata": {},
   "source": [
    "Similarly, EXIOBASE2 can be parsed by:"
   ]
  },
  {
   "cell_type": "code",
   "execution_count": 7,
   "metadata": {},
   "outputs": [],
   "source": [
    "exio2 = pymrio.parse_exiobase2(path='/tmp/exio2_pxp_download',\n",
    "                               charact=True, popvector='exio2')"
   ]
  },
  {
   "cell_type": "markdown",
   "metadata": {},
   "source": [
    "The additional parameter 'charact' specifies if the characterization matrix provided with EXIOBASE 2 should be used. This can be specified with True or False; in addition, a custom one can be provided. In the latter case, pass the full path to the custom characterisatio file to 'charact'.\n",
    "\n",
    "The parameter 'popvector' allows to pass information about the population per EXIOBASE2 country. This can either be a custom vector of, if 'exio2' is passed, the one provided with pymrio."
   ]
  },
  {
   "cell_type": "markdown",
   "metadata": {},
   "source": [
    "## Exploring EXIOBASE"
   ]
  },
  {
   "cell_type": "markdown",
   "metadata": {},
   "source": [
    "After parsing a EXIOBASE version, the handling of the database is the same as for any IO. \n",
    "Here we use the parsed EXIOBASE2 to explore some characteristics of the EXIBOASE system.\n",
    "\n",
    "After reading the raw files, metadata about EXIOBASE can be accessed within the meta field:"
   ]
  },
  {
   "cell_type": "code",
   "execution_count": 9,
   "metadata": {},
   "outputs": [
    {
     "data": {
      "text/plain": [
       "Description: Metadata for pymrio\n",
       "MRIO Name: EXIOBASE\n",
       "System: pxp\n",
       "Version: 2.2.2\n",
       "File: None\n",
       "History:\n",
       "20171221 15:56:00 - FILEIO -  EXIOBASE data S_factor_inputs parsed from /tmp/exio2_pxp_download/mrFactorInputs_version2.2.2.txt\n",
       "20171221 15:55:59 - FILEIO -  EXIOBASE data FY_emissions parsed from /tmp/exio2_pxp_download/mrFDEmissions_version2.2.2.txt\n",
       "20171221 15:55:59 - FILEIO -  EXIOBASE data S_materials parsed from /tmp/exio2_pxp_download/mrMaterials_version2.2.2.txt\n",
       "20171221 15:55:58 - FILEIO -  EXIOBASE data Y parsed from /tmp/exio2_pxp_download/mrFinalDemand_version2.2.2.txt\n",
       "20171221 15:55:57 - FILEIO -  EXIOBASE data A parsed from /tmp/exio2_pxp_download/mrIot_version2.2.2.txt\n",
       "20171221 15:55:20 - FILEIO -  EXIOBASE data S_resources parsed from /tmp/exio2_pxp_download/mrResources_version2.2.2.txt\n",
       "20171221 15:55:20 - FILEIO -  EXIOBASE data FY_materials parsed from /tmp/exio2_pxp_download/mrFDMaterials_version2.2.2.txt\n",
       "20171221 15:55:20 - FILEIO -  EXIOBASE data S_emissions parsed from /tmp/exio2_pxp_download/mrEmissions_version2.2.2.txt"
      ]
     },
     "execution_count": 9,
     "metadata": {},
     "output_type": "execute_result"
    }
   ],
   "source": [
    "exio2.meta"
   ]
  },
  {
   "cell_type": "markdown",
   "metadata": {},
   "source": [
    "Custom points can be added to the history in the meta record. For example:"
   ]
  },
  {
   "cell_type": "code",
   "execution_count": 12,
   "metadata": {},
   "outputs": [
    {
     "data": {
      "text/plain": [
       "Description: Metadata for pymrio\n",
       "MRIO Name: EXIOBASE\n",
       "System: pxp\n",
       "Version: 2.2.2\n",
       "File: None\n",
       "History:\n",
       "20171221 15:59:57 - NOTE -  First test run of EXIOBASE 2\n",
       "20171221 15:59:31 - NOTE -  First test run of EXIOBASE 2\n",
       "20171221 15:59:24 - NOTE -  First test run of EXIOBASE 2\n",
       "20171221 15:56:00 - FILEIO -  EXIOBASE data S_factor_inputs parsed from /tmp/exio2_pxp_download/mrFactorInputs_version2.2.2.txt\n",
       "20171221 15:55:59 - FILEIO -  EXIOBASE data FY_emissions parsed from /tmp/exio2_pxp_download/mrFDEmissions_version2.2.2.txt\n",
       "20171221 15:55:59 - FILEIO -  EXIOBASE data S_materials parsed from /tmp/exio2_pxp_download/mrMaterials_version2.2.2.txt\n",
       "20171221 15:55:58 - FILEIO -  EXIOBASE data Y parsed from /tmp/exio2_pxp_download/mrFinalDemand_version2.2.2.txt\n",
       "20171221 15:55:57 - FILEIO -  EXIOBASE data A parsed from /tmp/exio2_pxp_download/mrIot_version2.2.2.txt\n",
       "20171221 15:55:20 - FILEIO -  EXIOBASE data S_resources parsed from /tmp/exio2_pxp_download/mrResources_version2.2.2.txt\n",
       "20171221 15:55:20 - FILEIO -  EXIOBASE data FY_materials parsed from /tmp/exio2_pxp_download/mrFDMaterials_version2.2.2.txt\n",
       " ... (more lines in history)"
      ]
     },
     "execution_count": 12,
     "metadata": {},
     "output_type": "execute_result"
    }
   ],
   "source": [
    "exio2.meta.note(\"First test run of EXIOBASE 2\")\n",
    "exio2.meta"
   ]
  },
  {
   "cell_type": "markdown",
   "metadata": {},
   "source": [
    "To calculate the EXIOBASE system use:"
   ]
  },
  {
   "cell_type": "code",
   "execution_count": null,
   "metadata": {},
   "outputs": [
    {
     "name": "stderr",
     "output_type": "stream",
     "text": [
      "/home/konstans/proj/pymrio/pymrio/tools/iomath.py:83: FutureWarning: reshape is deprecated and will raise in a subsequent release. Please use .values.reshape(...) instead\n",
      "  x = x.reshape((1, -1))   # use numpy broadcasting - much faster\n",
      "/home/konstans/proj/pymrio/pymrio/core/mriosystem.py:1403: FutureWarning: '.reindex_axis' is deprecated and will be removed in a future version. Use '.reindex' instead.\n",
      "  axis=1)\n",
      "/home/konstans/proj/pymrio/pymrio/core/mriosystem.py:643: FutureWarning: '.reindex_axis' is deprecated and will be removed in a future version. Use '.reindex' instead.\n",
      "  reindex_axis(self.get_regions(), axis=1))\n"
     ]
    }
   ],
   "source": [
    "exio2.calc_all()"
   ]
  },
  {
   "cell_type": "markdown",
   "metadata": {},
   "source": [
    "## Save"
   ]
  },
  {
   "cell_type": "code",
   "execution_count": null,
   "metadata": {},
   "outputs": [],
   "source": []
  }
 ],
 "metadata": {
  "kernelspec": {
   "display_name": "Python [conda root]",
   "language": "python",
   "name": "conda-root-py"
  },
  "language_info": {
   "codemirror_mode": {
    "name": "ipython",
    "version": 3
   },
   "file_extension": ".py",
   "mimetype": "text/x-python",
   "name": "python",
   "nbconvert_exporter": "python",
   "pygments_lexer": "ipython3",
   "version": "3.5.3"
  }
 },
 "nbformat": 4,
 "nbformat_minor": 2
}
